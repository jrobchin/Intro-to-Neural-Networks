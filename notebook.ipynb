{
 "cells": [
  {
   "cell_type": "markdown",
   "metadata": {},
   "source": [
    "# Intro to Neural Networks\n",
    "by the Western AI Collective"
   ]
  },
  {
   "cell_type": "markdown",
   "metadata": {},
   "source": [
    "# Packages\n",
    "\n",
    "- **numpy** for arrays and linear algebra\n",
    "- **matplotlib** for plotting data and showing images\n",
    "- **tensorflow** for building our neural networks\n",
    "- **tensorflow.keras** makes it easier for us to build neural networks\n",
    "- **sklearn** for some data handling convenience"
   ]
  },
  {
   "cell_type": "code",
   "execution_count": 1,
   "metadata": {},
   "outputs": [],
   "source": [
    "import numpy as np\n",
    "import matplotlib.pyplot as plt\n",
    "\n",
    "# Tensorflow\n",
    "import tensorflow as tf\n",
    "# Keras\n",
    "from tensorflow import keras\n",
    "\n",
    "import sklearn\n",
    "\n",
    "import random"
   ]
  },
  {
   "cell_type": "code",
   "execution_count": 2,
   "metadata": {},
   "outputs": [],
   "source": [
    "DATA_PATH = './data/'\n",
    "# DATA_PATH = 'https://www.dropbox.com/sh/8f3n880duw68rmv/AADqsHCqKfGPoa4dMIfuel_da?dl=1'"
   ]
  },
  {
   "cell_type": "markdown",
   "metadata": {},
   "source": [
    "# Artificial Neurons\n",
    "Artificial neurons are the most fundamental building block of neural networks. They're actually modeled based on how neurons in the brain are thought to work.\n",
    "\n",
    "They're extremely simple by themselves, but come together (sometimes in the thousands) to build complex networks able to understand human speech.\n",
    "\n",
    "## Structure\n",
    "<img style=\"height: 150px; margin-left: 0\" src=\"images/neuron.png\">\n",
    "<img style=\"height: 150px; margin-left: 0\" src=\"images/neuron-thresh.jpeg\">\n",
    "\n",
    "### Input: <i>X<sub>n</sub></i>\n",
    "Also known as our x-values/independent variables/features.\n",
    "\n",
    "### Weights: <i>W<sub>n</sub></i>\n",
    "Used by the neuron to apply _importance_ or extra _weight_ to variables.\n",
    "\n",
    "Ex. if we want to predict passing or failing for students and we know _how much sleep they get_, _how much they study_, and _how tall they are_, we're probably* going to weigh the amount of sleep and studying they do more in the calculation.\n",
    "\n",
    "### Sum\n",
    "Add all the weighted inputs.\n",
    "\n",
    "### Activation Function\n",
    "Different activation functions are used for different use cases.\n",
    "\n",
    "_Sigmoid/ReLU_: for when our outputs are continuous.\n",
    "\n",
    "_Threshold_: for when we need a yes or no.\n",
    "\n",
    "<img style=\"height: 200px; margin-left: 0\" src=\"images/neuron-anim.gif\">"
   ]
  },
  {
   "cell_type": "markdown",
   "metadata": {},
   "source": [
    "### The Single Neuron _Network_\n",
    "\n",
    "Next we'll build a single neuron _network_.\n",
    "\n",
    "When you create an new model, Keras randomly initializes our weights. Remember, it doesn't _matter*_ what our weights are at this point, because we are going to adjust them to get the output we want."
   ]
  },
  {
   "cell_type": "code",
   "execution_count": 3,
   "metadata": {
    "scrolled": true
   },
   "outputs": [
    {
     "name": "stdout",
     "output_type": "stream",
     "text": [
      "[array([[-1.2593038]], dtype=float32), array([0.], dtype=float32)]\n"
     ]
    }
   ],
   "source": [
    "from tensorflow.keras.models import Sequential\n",
    "from tensorflow.keras.layers import Dense, Activation\n",
    "\n",
    "model = Sequential([\n",
    "    Dense(1, input_shape=(1,)),\n",
    "    Activation('sigmoid'),\n",
    "])\n",
    "\n",
    "print(model.layers[0].get_weights())"
   ]
  },
  {
   "cell_type": "markdown",
   "metadata": {},
   "source": [
    "Now let's run a prediction and see what we get."
   ]
  },
  {
   "cell_type": "code",
   "execution_count": 4,
   "metadata": {},
   "outputs": [
    {
     "data": {
      "text/plain": [
       "array([[0.22109374]], dtype=float32)"
      ]
     },
     "execution_count": 4,
     "metadata": {},
     "output_type": "execute_result"
    }
   ],
   "source": [
    "model.predict([1])"
   ]
  },
  {
   "cell_type": "code",
   "execution_count": 5,
   "metadata": {},
   "outputs": [],
   "source": [
    "del model"
   ]
  },
  {
   "cell_type": "markdown",
   "metadata": {},
   "source": [
    "# Activations\n",
    "Different activation functions have different properties. Here we'll compare different functions.\n",
    "\n",
    "## tanh\n",
    "<img style=\"height: 350px; margin-left: 0\" src=\"images/tanh.png\">\n",
    "\n",
    "## Sigmoid\n",
    "<img style=\"height: 350px; margin-left: 0\" src=\"images/sigmoid.png\">\n",
    "\n",
    "## RELU\n",
    "<img style=\"height: 350px; margin-left: 0\" src=\"images/relu.png\">\n",
    "\n",
    "## Softmax function\n",
    "<img style=\"height: 200px; margin-left: 0\" src=\"images/softmax.png\">"
   ]
  },
  {
   "cell_type": "markdown",
   "metadata": {},
   "source": [
    "Now we'll create a single neuron with a relu activation."
   ]
  },
  {
   "cell_type": "code",
   "execution_count": 6,
   "metadata": {},
   "outputs": [
    {
     "name": "stdout",
     "output_type": "stream",
     "text": [
      "[array([[-0.48813534]], dtype=float32), array([0.], dtype=float32)]\n"
     ]
    }
   ],
   "source": [
    "from tensorflow.keras.models import Sequential\n",
    "from tensorflow.keras.layers import Dense, Activation\n",
    "\n",
    "model = Sequential([\n",
    "    Dense(1, input_shape=(1,)),\n",
    "    Activation('relu'),\n",
    "])\n",
    "\n",
    "print(model.layers[0].get_weights())"
   ]
  },
  {
   "cell_type": "code",
   "execution_count": 7,
   "metadata": {},
   "outputs": [
    {
     "data": {
      "text/plain": [
       "array([[0.]], dtype=float32)"
      ]
     },
     "execution_count": 7,
     "metadata": {},
     "output_type": "execute_result"
    }
   ],
   "source": [
    "model.predict([1])"
   ]
  },
  {
   "cell_type": "code",
   "execution_count": 8,
   "metadata": {},
   "outputs": [],
   "source": [
    "del model"
   ]
  },
  {
   "cell_type": "markdown",
   "metadata": {},
   "source": [
    "# Layers\n",
    "To put these nodes together we construct a _network_. All a network is in this case is a collection of interconnected neurons.\n",
    "\n",
    "All these neurons work together to learn about our data and output what we want.\n",
    "\n",
    "Here's what a very simple network looks like:\n",
    "\n",
    "<img style=\"height: 200px; margin-left: 0\" src=\"images/network-layers.png\">\n",
    "\n",
    "It's important to see why we have different layers.\n",
    "\n",
    "## Input\n",
    "First we have the input layer where we feed our data into.\n",
    "\n",
    "## Hidden\n",
    "Then we perform the computations through the neurons that we saw before. Here is where the _blackbox_ nature of neural networks comes in.\n",
    "\n",
    "In here the network is working with features that it creates for itself and don't mean much to humans, but work together to give you the output you want.\n",
    "\n",
    "## Output\n",
    "then we have an output layer which gives us our prediction."
   ]
  },
  {
   "cell_type": "markdown",
   "metadata": {},
   "source": [
    "# Training Neural Networks\n",
    "\n",
    "Neural networks are trained similarly the algorithms from our last lecture.\n",
    "\n",
    "## Review of Supervised Learning\n",
    "In this workshop we will only be talking about supervised learning.\n",
    "\n",
    "### _Supervised_\n",
    "This type of training means that we have features/inputs for which also have a label/desired output for.\n",
    "\n",
    "A good analogy for this is math exam. You get the test sheet with questions and multiple choice answers, but there is also an answer key that contains the correct answers.\n",
    "\n",
    "### _Learning_\n",
    "A learning algorithm _teaches_ a model over time as it sees more data.\n",
    "\n",
    "First we start with a _dumb_ model and see how it answers questions. Then we look at the correct answers and see how the model compares. Then we adjust the model slighty _(remember gradient descent)_ so that the model will answer closer to what we want with more confidence.\n",
    "\n",
    "Using the same math analogy, you could see how this could work even with humans. For example, let's say you knew what numbers were, but not what a **_>_** and **_<_** were.\n",
    "\n",
    "If I gave you a test containing:\n",
    "\n",
    "| x<sub>1</sub> | x<sub>1</sub> |\n",
    "| -----------   | -----------   |\n",
    "|      0        |      8        |\n",
    "|      3        |     -2        |\n",
    "|      5        |     -8        |\n",
    "|     10        |     11        |\n",
    "|      2        |     -2        |\n",
    "\n",
    "you could probably give me the answers to the test.\n",
    "\n",
    "| x<sub>1</sub> | x<sub>1</sub> |      y        |\n",
    "| -----------   | -----------   | -----------   |\n",
    "|      0        |      8        |      <        |\n",
    "|      3        |     -2        |      >        |\n",
    "|      5        |     -8        |      >        |\n",
    "|     10        |     11        |      <        |\n",
    "|      2        |     -2        |      >        |\n",
    "\n",
    "And if you couldn't give me the answers at first, you could look at the answers to the test and come up with some sort of mapping."
   ]
  },
  {
   "cell_type": "markdown",
   "metadata": {},
   "source": [
    "## Teaching a neuron\n",
    "Let's actually use our neuron to learn about greater than and less than signs."
   ]
  },
  {
   "cell_type": "markdown",
   "metadata": {},
   "source": [
    "### Building the dataset\n",
    "We need a large range of values with their paired sign.\n",
    "\n",
    "Our x-values will be two integers and the y-values will be either a greater than or less than sign."
   ]
  },
  {
   "cell_type": "code",
   "execution_count": 9,
   "metadata": {},
   "outputs": [],
   "source": [
    "data_x = np.array([(random.randint(-25000, 25000), random.randint(-25000, 25000)) for i in range(50000)])\n",
    "\n",
    "data_y = []\n",
    "signs = ['<', '>']\n",
    "for x1, x2 in data_x:\n",
    "    data_y.append(int(x1>x2))\n",
    "    \n",
    "train_x = data_x[:800]\n",
    "train_y = data_y[:800]\n",
    "test_x = data_x[800:]\n",
    "test_y = data_y[800:]"
   ]
  },
  {
   "cell_type": "code",
   "execution_count": 11,
   "metadata": {},
   "outputs": [
    {
     "name": "stdout",
     "output_type": "stream",
     "text": [
      "[ -456 -2004] 1 >\n"
     ]
    }
   ],
   "source": [
    "i = 300\n",
    "print(train_x[i], train_y[i], signs[train_y[i]])"
   ]
  },
  {
   "cell_type": "markdown",
   "metadata": {},
   "source": [
    "## Create the neuron\n",
    "\n",
    "Just like before, we'll use a single neuron, now with two inputs and a sigmoid activation function."
   ]
  },
  {
   "cell_type": "code",
   "execution_count": 12,
   "metadata": {},
   "outputs": [
    {
     "name": "stdout",
     "output_type": "stream",
     "text": [
      "[array([[0.0360661 ],\n",
      "       [0.03341894]], dtype=float32), array([0.], dtype=float32)]\n",
      "_________________________________________________________________\n",
      "Layer (type)                 Output Shape              Param #   \n",
      "=================================================================\n",
      "dense_2 (Dense)              (None, 1)                 3         \n",
      "_________________________________________________________________\n",
      "activation_2 (Activation)    (None, 1)                 0         \n",
      "=================================================================\n",
      "Total params: 3\n",
      "Trainable params: 3\n",
      "Non-trainable params: 0\n",
      "_________________________________________________________________\n"
     ]
    }
   ],
   "source": [
    "from tensorflow.keras.models import Sequential\n",
    "from tensorflow.keras.layers import Dense, Activation\n",
    "\n",
    "gtlt_model = Sequential([\n",
    "    Dense(1, kernel_initializer='uniform', input_shape=(2,)),\n",
    "    Activation('sigmoid'),\n",
    "])\n",
    "\n",
    "print(gtlt_model.layers[0].get_weights())\n",
    "\n",
    "gtlt_model.summary()"
   ]
  },
  {
   "cell_type": "code",
   "execution_count": 13,
   "metadata": {},
   "outputs": [],
   "source": [
    "gtlt_model.compile(\n",
    "    optimizer='adam', \n",
    "    loss='mean_absolute_error',\n",
    "    metrics=['accuracy']\n",
    ")"
   ]
  },
  {
   "cell_type": "code",
   "execution_count": 14,
   "metadata": {
    "scrolled": true
   },
   "outputs": [
    {
     "name": "stdout",
     "output_type": "stream",
     "text": [
      "Train on 800 samples, validate on 49200 samples\n",
      "Epoch 1/50\n",
      "800/800 [==============================] - 0s 492us/step - loss: 0.4575 - acc: 0.5425 - val_loss: 0.3904 - val_acc: 0.6096\n",
      "Epoch 2/50\n",
      "800/800 [==============================] - 0s 356us/step - loss: 0.3646 - acc: 0.6350 - val_loss: 0.3223 - val_acc: 0.6776\n",
      "Epoch 3/50\n",
      "800/800 [==============================] - 0s 350us/step - loss: 0.3304 - acc: 0.6700 - val_loss: 0.2869 - val_acc: 0.7131\n",
      "Epoch 4/50\n",
      "800/800 [==============================] - 0s 344us/step - loss: 0.2938 - acc: 0.7063 - val_loss: 0.2635 - val_acc: 0.7364\n",
      "Epoch 5/50\n",
      "800/800 [==============================] - 0s 350us/step - loss: 0.2838 - acc: 0.7162 - val_loss: 0.2600 - val_acc: 0.7401\n",
      "Epoch 6/50\n",
      "800/800 [==============================] - 0s 448us/step - loss: 0.2645 - acc: 0.7350 - val_loss: 0.2252 - val_acc: 0.7749\n",
      "Epoch 7/50\n",
      "800/800 [==============================] - 0s 349us/step - loss: 0.2179 - acc: 0.7825 - val_loss: 0.1830 - val_acc: 0.8169\n",
      "Epoch 8/50\n",
      "800/800 [==============================] - 0s 365us/step - loss: 0.1616 - acc: 0.8387 - val_loss: 0.1053 - val_acc: 0.8947\n",
      "Epoch 9/50\n",
      "800/800 [==============================] - 0s 341us/step - loss: 0.0616 - acc: 0.9387 - val_loss: 0.0877 - val_acc: 0.9123\n",
      "Epoch 10/50\n",
      "800/800 [==============================] - 0s 372us/step - loss: 0.0739 - acc: 0.9263 - val_loss: 8.9280e-04 - val_acc: 0.9998\n",
      "Epoch 11/50\n",
      "800/800 [==============================] - 0s 366us/step - loss: 0.0211 - acc: 0.9788 - val_loss: 0.0310 - val_acc: 0.9691\n",
      "Epoch 12/50\n",
      "800/800 [==============================] - 0s 389us/step - loss: 0.0134 - acc: 0.9862 - val_loss: 0.0328 - val_acc: 0.9672\n",
      "Epoch 13/50\n",
      "800/800 [==============================] - 0s 378us/step - loss: 0.0325 - acc: 0.9675 - val_loss: 0.0378 - val_acc: 0.9622\n",
      "Epoch 14/50\n",
      "800/800 [==============================] - 0s 349us/step - loss: 0.0269 - acc: 0.9738 - val_loss: 0.0170 - val_acc: 0.9830\n",
      "Epoch 15/50\n",
      "800/800 [==============================] - 0s 380us/step - loss: 0.0248 - acc: 0.9750 - val_loss: 0.0127 - val_acc: 0.9872\n",
      "Epoch 16/50\n",
      "800/800 [==============================] - 0s 365us/step - loss: 0.0074 - acc: 0.9925 - val_loss: 0.0027 - val_acc: 0.9974\n",
      "Epoch 17/50\n",
      "800/800 [==============================] - 0s 353us/step - loss: 0.0059 - acc: 0.9937 - val_loss: 0.0247 - val_acc: 0.9752\n",
      "Epoch 18/50\n",
      "800/800 [==============================] - 0s 355us/step - loss: 0.0180 - acc: 0.9825 - val_loss: 0.0063 - val_acc: 0.9937\n",
      "Epoch 19/50\n",
      "800/800 [==============================] - 0s 370us/step - loss: 0.0094 - acc: 0.9913 - val_loss: 0.0108 - val_acc: 0.9893\n",
      "Epoch 20/50\n",
      "800/800 [==============================] - 0s 377us/step - loss: 0.0111 - acc: 0.9888 - val_loss: 0.0404 - val_acc: 0.9595\n",
      "Epoch 21/50\n",
      "800/800 [==============================] - 0s 384us/step - loss: 0.0356 - acc: 0.9650 - val_loss: 0.0106 - val_acc: 0.9895\n",
      "Epoch 22/50\n",
      "800/800 [==============================] - 0s 370us/step - loss: 0.0424 - acc: 0.9587 - val_loss: 0.0067 - val_acc: 0.9933\n",
      "Epoch 23/50\n",
      "800/800 [==============================] - 0s 364us/step - loss: 0.0275 - acc: 0.9725 - val_loss: 0.0376 - val_acc: 0.9625\n",
      "Epoch 24/50\n",
      "800/800 [==============================] - 0s 358us/step - loss: 0.0265 - acc: 0.9738 - val_loss: 0.0274 - val_acc: 0.9726\n",
      "Epoch 25/50\n",
      "800/800 [==============================] - 0s 344us/step - loss: 0.0349 - acc: 0.9650 - val_loss: 0.0269 - val_acc: 0.9729\n",
      "Epoch 26/50\n",
      "800/800 [==============================] - 0s 362us/step - loss: 0.0175 - acc: 0.9825 - val_loss: 0.0098 - val_acc: 0.9902\n",
      "Epoch 27/50\n",
      "800/800 [==============================] - 0s 342us/step - loss: 0.0139 - acc: 0.9850 - val_loss: 0.0293 - val_acc: 0.9709\n",
      "Epoch 28/50\n",
      "800/800 [==============================] - 0s 338us/step - loss: 0.0085 - acc: 0.9913 - val_loss: 0.0195 - val_acc: 0.9805\n",
      "Epoch 29/50\n",
      "800/800 [==============================] - 0s 363us/step - loss: 0.0163 - acc: 0.9838 - val_loss: 0.0074 - val_acc: 0.9926\n",
      "Epoch 30/50\n",
      "800/800 [==============================] - 0s 360us/step - loss: 0.0087 - acc: 0.9913 - val_loss: 0.0110 - val_acc: 0.9890\n",
      "Epoch 31/50\n",
      "800/800 [==============================] - 0s 345us/step - loss: 0.0113 - acc: 0.9875 - val_loss: 0.0091 - val_acc: 0.9910\n",
      "Epoch 32/50\n",
      "800/800 [==============================] - 0s 358us/step - loss: 0.0198 - acc: 0.9800 - val_loss: 0.0241 - val_acc: 0.9759\n",
      "Epoch 33/50\n",
      "800/800 [==============================] - 0s 356us/step - loss: 0.0182 - acc: 0.9812 - val_loss: 0.0055 - val_acc: 0.9946\n",
      "Epoch 34/50\n",
      "800/800 [==============================] - 0s 383us/step - loss: 0.0168 - acc: 0.9825 - val_loss: 0.0165 - val_acc: 0.9834\n",
      "Epoch 35/50\n",
      "800/800 [==============================] - 0s 376us/step - loss: 0.0073 - acc: 0.9925 - val_loss: 0.0196 - val_acc: 0.9804\n",
      "Epoch 36/50\n",
      "800/800 [==============================] - 0s 350us/step - loss: 0.0187 - acc: 0.9812 - val_loss: 0.0119 - val_acc: 0.9880\n",
      "Epoch 37/50\n",
      "800/800 [==============================] - 0s 345us/step - loss: 0.0054 - acc: 0.9950 - val_loss: 0.0110 - val_acc: 0.9891\n",
      "Epoch 38/50\n",
      "800/800 [==============================] - 0s 374us/step - loss: 0.0144 - acc: 0.9862 - val_loss: 0.0301 - val_acc: 0.9699\n",
      "Epoch 39/50\n",
      "800/800 [==============================] - 0s 357us/step - loss: 0.0337 - acc: 0.9662 - val_loss: 0.0416 - val_acc: 0.9584\n",
      "Epoch 40/50\n",
      "800/800 [==============================] - 0s 351us/step - loss: 0.0362 - acc: 0.9637 - val_loss: 0.0329 - val_acc: 0.9671\n",
      "Epoch 41/50\n",
      "800/800 [==============================] - 0s 353us/step - loss: 0.0206 - acc: 0.9788 - val_loss: 0.0086 - val_acc: 0.9914\n",
      "Epoch 42/50\n",
      "800/800 [==============================] - 0s 370us/step - loss: 0.0574 - acc: 0.9425 - val_loss: 0.0759 - val_acc: 0.9242\n",
      "Epoch 43/50\n",
      "800/800 [==============================] - 0s 358us/step - loss: 0.0750 - acc: 0.9250 - val_loss: 0.0762 - val_acc: 0.9238\n",
      "Epoch 44/50\n",
      "800/800 [==============================] - 0s 333us/step - loss: 0.0671 - acc: 0.9325 - val_loss: 0.0475 - val_acc: 0.9525\n",
      "Epoch 45/50\n",
      "800/800 [==============================] - 0s 362us/step - loss: 0.0291 - acc: 0.9713 - val_loss: 0.0014 - val_acc: 0.9986\n",
      "Epoch 46/50\n",
      "800/800 [==============================] - 0s 368us/step - loss: 0.0071 - acc: 0.9925 - val_loss: 0.0080 - val_acc: 0.9920\n",
      "Epoch 47/50\n",
      "800/800 [==============================] - 0s 347us/step - loss: 0.0094 - acc: 0.9913 - val_loss: 0.0242 - val_acc: 0.9758\n",
      "Epoch 48/50\n",
      "800/800 [==============================] - 0s 381us/step - loss: 0.0340 - acc: 0.9662 - val_loss: 0.0347 - val_acc: 0.9652\n",
      "Epoch 49/50\n",
      "800/800 [==============================] - 0s 341us/step - loss: 0.0156 - acc: 0.9850 - val_loss: 0.0171 - val_acc: 0.9828\n",
      "Epoch 50/50\n",
      "800/800 [==============================] - 0s 346us/step - loss: 0.0151 - acc: 0.9850 - val_loss: 0.0127 - val_acc: 0.9873\n"
     ]
    },
    {
     "data": {
      "text/plain": [
       "<tensorflow.python.keras.callbacks.History at 0x7f7a6cdd1b00>"
      ]
     },
     "execution_count": 14,
     "metadata": {},
     "output_type": "execute_result"
    }
   ],
   "source": [
    "gtlt_model.fit(train_x, train_y, validation_data=(test_x, test_y), epochs=50)"
   ]
  },
  {
   "cell_type": "code",
   "execution_count": 15,
   "metadata": {},
   "outputs": [
    {
     "name": "stdout",
     "output_type": "stream",
     "text": [
      "(999, 4) >\n",
      "(453, 39) >\n",
      "(349, 700) <\n",
      "(-234234, 3448332) <\n",
      "(8, 12) <\n"
     ]
    }
   ],
   "source": [
    "d = [[(999, 4), (453, 39), (349, 700), (-234234, 3448332), (8, 12)]]\n",
    "predictions = gtlt_model.predict(d)\n",
    "\n",
    "for i, pred in enumerate(predictions):\n",
    "    if pred[0] < 0.5:\n",
    "        print(d[0][i], '<')\n",
    "    else:\n",
    "        print(d[0][i], '>')"
   ]
  },
  {
   "cell_type": "code",
   "execution_count": 16,
   "metadata": {},
   "outputs": [
    {
     "data": {
      "text/plain": [
       "[array([[ 0.0481133 ],\n",
       "        [-0.04564799]], dtype=float32), array([-0.04741171], dtype=float32)]"
      ]
     },
     "execution_count": 16,
     "metadata": {},
     "output_type": "execute_result"
    }
   ],
   "source": [
    "gtlt_model.layers[0].get_weights()"
   ]
  },
  {
   "cell_type": "code",
   "execution_count": 17,
   "metadata": {},
   "outputs": [],
   "source": [
    "del gtlt_model\n",
    "del data_x\n",
    "del data_y\n",
    "del train_x\n",
    "del train_y\n",
    "del test_x\n",
    "del test_y"
   ]
  },
  {
   "cell_type": "markdown",
   "metadata": {},
   "source": [
    "# Putting Neurons Together in a Layer\n",
    "\n",
    "If this worked for us why do we need more neurons? Let's look at how ReLU can be used to model a cubic function (courtesy of this [article](https://towardsdatascience.com/can-neural-networks-really-learn-any-function-65e106617fc6) by [Brendan Fortuner](https://towardsdatascience.com/@bfortuner)).\n",
    "\n",
    "So we start with a cubic function and a relu activation function.\n",
    "\n",
    "<img style=\"height: 200px; margin-left: 0\" src=\"images/cubic-relu.png\">\n",
    "\n",
    "Now we can make 6 ReLU functions (left) and create a weighted sum to create a new graph that models our cubic graph.\n",
    "\n",
    "<img style=\"height: 300px; margin-left: 0\" src=\"images/relu-approx.png\">\n",
    "\n",
    "But if you think about it, a simple neural network is just a weighted sum. Therefore we can put our equations into neural network form as see if it works.\n",
    "\n",
    "<img style=\"height: 400px; margin-left: 0\" src=\"images/relu-approx-net.png\">\n",
    "\n",
    "Now if we feed forward through our network from before, we get a function that looks like this.\n",
    "\n",
    "<img style=\"height: 250px; margin-left: 0\" src=\"images/relu-approx-net-ff.png\">"
   ]
  },
  {
   "cell_type": "markdown",
   "metadata": {},
   "source": [
    "# Building and Training your first Neural Network\n",
    "\n",
    "Next we're going to build our first neural network, but we need a problem.\n",
    "\n",
    "Remember Google's quick draw? We're going to try to build our own - simplified version."
   ]
  },
  {
   "cell_type": "markdown",
   "metadata": {},
   "source": [
    "Our version is going to have 7 classes: _'flamingo', 'angel', 'hot air balloon', 'skateboard', 'The Eiffel Tower', 'map', 'underwear'._"
   ]
  },
  {
   "cell_type": "code",
   "execution_count": 7,
   "metadata": {},
   "outputs": [],
   "source": [
    "# We create a class array to make it easier to transform numbers into classes\n",
    "classes = [\n",
    "    'flamingo',\n",
    "    'cake',\n",
    "    'campfire',\n",
    "    'angel',\n",
    "    'palm tree',\n",
    "    'remote control',\n",
    "    'rhinoceros',\n",
    "    'The Eiffel Tower',\n",
    "    'The Mona Lisa',\n",
    "    'wine bottle',\n",
    "    'hot air balloon',\n",
    "    'skateboard',\n",
    "    'map',\n",
    "    'underwear',\n",
    "    'roller coaster'\n",
    "]"
   ]
  },
  {
   "cell_type": "code",
   "execution_count": 19,
   "metadata": {},
   "outputs": [],
   "source": [
    "# a function to load all the data into a dictionary\n",
    "def load_quick_draw_data(classes, n_data=-1):\n",
    "    data = {}\n",
    "    for cls in classes:\n",
    "        data_path = DATA_PATH + 'full_numpy_bitmap_' + cls + '.npy'\n",
    "        print('loading:', data_path)\n",
    "        data[cls] = np.load(data_path)[:n_data]\n",
    "    return data"
   ]
  },
  {
   "cell_type": "code",
   "execution_count": 20,
   "metadata": {},
   "outputs": [
    {
     "name": "stdout",
     "output_type": "stream",
     "text": [
      "loading: ./data/full_numpy_bitmap_flamingo.npy\n",
      "loading: ./data/full_numpy_bitmap_cake.npy\n",
      "loading: ./data/full_numpy_bitmap_campfire.npy\n",
      "loading: ./data/full_numpy_bitmap_angel.npy\n",
      "loading: ./data/full_numpy_bitmap_palm tree.npy\n",
      "loading: ./data/full_numpy_bitmap_remote control.npy\n",
      "loading: ./data/full_numpy_bitmap_rhinoceros.npy\n",
      "loading: ./data/full_numpy_bitmap_The Eiffel Tower.npy\n",
      "loading: ./data/full_numpy_bitmap_The Mona Lisa.npy\n",
      "loading: ./data/full_numpy_bitmap_wine bottle.npy\n",
      "loading: ./data/full_numpy_bitmap_hot air balloon.npy\n",
      "loading: ./data/full_numpy_bitmap_skateboard.npy\n",
      "loading: ./data/full_numpy_bitmap_map.npy\n",
      "loading: ./data/full_numpy_bitmap_underwear.npy\n",
      "loading: ./data/full_numpy_bitmap_roller coaster.npy\n"
     ]
    }
   ],
   "source": [
    "qd_data = load_quick_draw_data(classes)"
   ]
  },
  {
   "cell_type": "code",
   "execution_count": 21,
   "metadata": {},
   "outputs": [],
   "source": [
    "del qd_data"
   ]
  },
  {
   "cell_type": "markdown",
   "metadata": {},
   "source": [
    "## About the data\n",
    "Although it may seem counter intuitive, these drawings are no _special_ kind of data. Each drawing is a sequence of pixels in order, layer by layer with numbers ranging from 0 for black to 255 for white.\n",
    "\n",
    "Let's see what the first image of a flamingo looks like."
   ]
  },
  {
   "cell_type": "code",
   "execution_count": null,
   "metadata": {
    "scrolled": true
   },
   "outputs": [],
   "source": [
    "qd_data['flamingo'][0]"
   ]
  },
  {
   "cell_type": "code",
   "execution_count": null,
   "metadata": {},
   "outputs": [],
   "source": [
    "# a function to display a stack of a bunch of image arrays\n",
    "def display_mult_flat(data, start, stop):\n",
    "    images = data[start].reshape([1,784])\n",
    "    for i in range(start+1,stop):\n",
    "        images = np.concatenate((images, data[i].reshape([1,784])))\n",
    "    plt.imshow(images, cmap=plt.get_cmap('gray_r'))\n",
    "    plt.show()"
   ]
  },
  {
   "cell_type": "code",
   "execution_count": null,
   "metadata": {},
   "outputs": [],
   "source": [
    "import random\n",
    "random.choice(classes)"
   ]
  },
  {
   "cell_type": "code",
   "execution_count": null,
   "metadata": {
    "scrolled": false
   },
   "outputs": [],
   "source": [
    "for cls in [random.choice(classes), random.choice(classes), random.choice(classes)]:\n",
    "    plt.figure(figsize=(20, 4))\n",
    "    plt.title(cls)\n",
    "    display_mult_flat(qd_data[cls], 0, 200)"
   ]
  },
  {
   "cell_type": "markdown",
   "metadata": {},
   "source": [
    "## What does this mean for the model?\n",
    "Our model is going to look at the different classes of drawings and learn what they 'look' like.\n",
    "\n",
    "This means that the position of the drawing in the frame is going to matter and the size of the drawing is going to matter."
   ]
  },
  {
   "cell_type": "markdown",
   "metadata": {},
   "source": [
    "## What our images look like\n",
    "\n",
    "First let's see what our data looks like. We'll display 4 random drawing from each class."
   ]
  },
  {
   "cell_type": "code",
   "execution_count": null,
   "metadata": {
    "scrolled": false
   },
   "outputs": [],
   "source": [
    "for cls, images in qd_data.items():\n",
    "    fig, ax = plt.subplots(1, 4, figsize=(14, 3))\n",
    "    fig.subplots_adjust(hspace=0.2, wspace=0.1)\n",
    "    fig.suptitle(cls, fontsize=16)\n",
    "    for axis in ax:\n",
    "#         axis.imshow(images[random.randint(0, len(images))], cmap='gray')\n",
    "        axis.imshow(images[random.randint(0, len(images))].reshape(28, 28), cmap='gray')"
   ]
  },
  {
   "cell_type": "code",
   "execution_count": null,
   "metadata": {},
   "outputs": [],
   "source": [
    "del qd_data"
   ]
  },
  {
   "cell_type": "markdown",
   "metadata": {},
   "source": [
    "## Splitting data into features and labels\n",
    "\n",
    "To work with the data properly, we'll split our data into two arrays, one containing the images and one with the labels."
   ]
  },
  {
   "cell_type": "code",
   "execution_count": 19,
   "metadata": {},
   "outputs": [],
   "source": [
    "# a function to load all the data into \n",
    "def load_quick_draw_features_labels(classes, n_data=-1):\n",
    "    X_data = []\n",
    "    y_data = []\n",
    "    \n",
    "    n_class = 0\n",
    "    for cls in classes:\n",
    "        data_path = DATA_PATH + 'full_numpy_bitmap_' + cls + '.npy'\n",
    "        print('loading:', data_path)\n",
    "        data = np.load(data_path)[:n_data]\n",
    "        X_data.extend(data)\n",
    "        y_data.extend([n_class for i in range(len(data))])\n",
    "        n_class += 1\n",
    "\n",
    "    return X_data, y_data"
   ]
  },
  {
   "cell_type": "markdown",
   "metadata": {},
   "source": [
    "## Splitting data into training and testing\n",
    "\n",
    "Remember we need a reality check after we train to make sure we aren't overfitting."
   ]
  },
  {
   "cell_type": "code",
   "execution_count": 29,
   "metadata": {},
   "outputs": [
    {
     "name": "stdout",
     "output_type": "stream",
     "text": [
      "loading: ./data/full_numpy_bitmap_flamingo.npy\n",
      "loading: ./data/full_numpy_bitmap_cake.npy\n",
      "loading: ./data/full_numpy_bitmap_campfire.npy\n",
      "loading: ./data/full_numpy_bitmap_angel.npy\n",
      "loading: ./data/full_numpy_bitmap_palm tree.npy\n",
      "loading: ./data/full_numpy_bitmap_remote control.npy\n",
      "loading: ./data/full_numpy_bitmap_rhinoceros.npy\n",
      "loading: ./data/full_numpy_bitmap_The Eiffel Tower.npy\n",
      "loading: ./data/full_numpy_bitmap_The Mona Lisa.npy\n",
      "loading: ./data/full_numpy_bitmap_wine bottle.npy\n",
      "loading: ./data/full_numpy_bitmap_hot air balloon.npy\n",
      "loading: ./data/full_numpy_bitmap_skateboard.npy\n",
      "loading: ./data/full_numpy_bitmap_map.npy\n",
      "loading: ./data/full_numpy_bitmap_underwear.npy\n",
      "loading: ./data/full_numpy_bitmap_roller coaster.npy\n"
     ]
    }
   ],
   "source": [
    "from sklearn.model_selection import train_test_split\n",
    "\n",
    "X_data, y_data = load_quick_draw_features_labels(classes, 50000)\n",
    "\n",
    "X_data = np.array(X_data, dtype=np.float32)\n",
    "X = X_data / 255.0\n",
    "\n",
    "y_data = np.array(y_data)\n",
    "\n",
    "X_train, X_test, y_train, y_test = train_test_split(X_data, y_data, test_size=0.2)\n",
    "\n",
    "del X_data\n",
    "del y_data"
   ]
  },
  {
   "cell_type": "code",
   "execution_count": 30,
   "metadata": {},
   "outputs": [
    {
     "name": "stdout",
     "output_type": "stream",
     "text": [
      "(600000, 784)\n",
      "(150000, 784)\n",
      "(600000,)\n",
      "(150000,)\n"
     ]
    }
   ],
   "source": [
    "print(X_train.shape)\n",
    "print(X_test.shape)\n",
    "print(y_train.shape)\n",
    "print(y_test.shape)"
   ]
  },
  {
   "cell_type": "markdown",
   "metadata": {},
   "source": [
    "# Designing a Neural Network Architecture\n",
    "Designing a neural network architecture is still a hot topic in the AI space.\n",
    "\n",
    "An answer posted on [Stack Overflow](https://datascience.stackexchange.com/questions/27722/is-there-a-thumb-rule-for-designing-neural-networks) says it best:\n",
    "\n",
    "> There is no magic rule for choosing the best neural network architecture, but if you can find an architecture someone has used to solve a similar problem this is often an excellent starting point.\n",
    ">\n",
    "> The best places to look are official or unofficial examples using popular neural network libraries such as Keras, PyTorch, or Tensorflow, and architectures described in academic literature. keras/examples on github is a great resource.\n",
    ">\n",
    "> These architectures were likely chosen after lots of trial and error, so most of the work will have been done for you.\n",
    ">\n",
    "> Stack Overflow user: Imran\n",
    "\n",
    "Although it may sound frustrating, neural networks are a new science. We are just beginning to learn what we can do with them and how.\n",
    "\n",
    "Actually, there is a theory of neural networks called the [Universal Approximation Theorem](https://en.wikipedia.org/wiki/Universal_approximation_theorem). From the [Deep Learning Book](http://www.deeplearningbook.org/contents/mlp.html): \n",
    "\n",
    ">A feedforward network with a single layer is sufficient to represent any function, but the layer may be infeasibly large and may fail to learn and generalize correctly.\n",
    "\n",
    "This simply means that a single hidden layer neural network could _solve_ any problem given enough layers and data."
   ]
  },
  {
   "cell_type": "code",
   "execution_count": 5,
   "metadata": {},
   "outputs": [
    {
     "name": "stdout",
     "output_type": "stream",
     "text": [
      "loading: ./data/full_numpy_bitmap_flamingo.npy\n",
      "loading: ./data/full_numpy_bitmap_cake.npy\n",
      "loading: ./data/full_numpy_bitmap_campfire.npy\n",
      "loading: ./data/full_numpy_bitmap_angel.npy\n",
      "loading: ./data/full_numpy_bitmap_palm tree.npy\n",
      "loading: ./data/full_numpy_bitmap_remote control.npy\n",
      "loading: ./data/full_numpy_bitmap_rhinoceros.npy\n",
      "loading: ./data/full_numpy_bitmap_The Eiffel Tower.npy\n",
      "loading: ./data/full_numpy_bitmap_The Mona Lisa.npy\n",
      "loading: ./data/full_numpy_bitmap_wine bottle.npy\n",
      "loading: ./data/full_numpy_bitmap_hot air balloon.npy\n",
      "loading: ./data/full_numpy_bitmap_skateboard.npy\n",
      "loading: ./data/full_numpy_bitmap_map.npy\n",
      "loading: ./data/full_numpy_bitmap_underwear.npy\n",
      "loading: ./data/full_numpy_bitmap_roller coaster.npy\n",
      "(600000, 784)\n",
      "(150000, 784)\n",
      "(600000,)\n",
      "(150000,)\n"
     ]
    }
   ],
   "source": [
    "# We create a class array to make it easier to transform numbers into classes\n",
    "classes = [\n",
    "    'flamingo',\n",
    "    'cake',\n",
    "    'campfire',\n",
    "    'angel',\n",
    "    'palm tree',\n",
    "    'remote control',\n",
    "    'rhinoceros',\n",
    "    'The Eiffel Tower',\n",
    "    'The Mona Lisa',\n",
    "    'wine bottle',\n",
    "    'hot air balloon',\n",
    "    'skateboard',\n",
    "    'map',\n",
    "    'underwear',\n",
    "    'roller coaster'\n",
    "]\n",
    "\n",
    "# a function to load all the data into \n",
    "def load_quick_draw_features_labels(classes, n_data=-1):\n",
    "    X_data = []\n",
    "    y_data = []\n",
    "    \n",
    "    n_class = 0\n",
    "    for cls in classes:\n",
    "        data_path = DATA_PATH + 'full_numpy_bitmap_' + cls + '.npy'\n",
    "        print('loading:', data_path)\n",
    "        data = np.load(data_path)[:n_data]\n",
    "        X_data.extend(data)\n",
    "        y_data.extend([n_class for i in range(len(data))])\n",
    "        n_class += 1\n",
    "\n",
    "    return X_data, y_data\n",
    "\n",
    "from sklearn.model_selection import train_test_split\n",
    "\n",
    "X_data, y_data = load_quick_draw_features_labels(classes, 50000)\n",
    "\n",
    "X_data = np.array(X_data, dtype=np.float32)\n",
    "X = X_data / 255.0\n",
    "\n",
    "y_data = np.array(y_data)\n",
    "\n",
    "X_train, X_test, y_train, y_test = train_test_split(X_data, y_data, test_size=0.2)\n",
    "\n",
    "del X_data\n",
    "del y_data\n",
    "\n",
    "print(X_train.shape)\n",
    "print(X_test.shape)\n",
    "print(y_train.shape)\n",
    "print(y_test.shape)"
   ]
  },
  {
   "cell_type": "markdown",
   "metadata": {},
   "source": [
    "## Network 1: A Single Layer\n",
    "Our first network will have one input layer, one hidden layer, and one output layer.\n",
    "\n",
    "This is a very simple network and will probably be very bad at distinguishing drawings."
   ]
  },
  {
   "cell_type": "markdown",
   "metadata": {},
   "source": [
    "Our input shape should be the same as our input data so let's see what the shape of the first element of our data is."
   ]
  },
  {
   "cell_type": "code",
   "execution_count": 6,
   "metadata": {},
   "outputs": [
    {
     "data": {
      "text/plain": [
       "(784,)"
      ]
     },
     "execution_count": 6,
     "metadata": {},
     "output_type": "execute_result"
    }
   ],
   "source": [
    "X_train[0].shape"
   ]
  },
  {
   "cell_type": "code",
   "execution_count": 9,
   "metadata": {},
   "outputs": [
    {
     "name": "stdout",
     "output_type": "stream",
     "text": [
      "_________________________________________________________________\n",
      "Layer (type)                 Output Shape              Param #   \n",
      "=================================================================\n",
      "dense_8 (Dense)              (None, 8)                 6280      \n",
      "_________________________________________________________________\n",
      "dense_9 (Dense)              (None, 15)                135       \n",
      "=================================================================\n",
      "Total params: 6,415\n",
      "Trainable params: 6,415\n",
      "Non-trainable params: 0\n",
      "_________________________________________________________________\n"
     ]
    }
   ],
   "source": [
    "from tensorflow.keras.models import Sequential\n",
    "from tensorflow.keras.layers import Input, Dense, Activation\n",
    "\n",
    "qd_model = Sequential([\n",
    "    Dense(8, input_shape=(784,), activation='sigmoid'),\n",
    "    Dense(len(classes), activation='softmax'),\n",
    "])\n",
    "\n",
    "qd_model.compile(optimizer='adam', \n",
    "                   loss='sparse_categorical_crossentropy',\n",
    "                   metrics=['accuracy'])\n",
    "\n",
    "qd_model.summary()"
   ]
  },
  {
   "cell_type": "markdown",
   "metadata": {},
   "source": [
    "### Training the network\n",
    "Much like before, we give the model the training data and it will fit to classify."
   ]
  },
  {
   "cell_type": "code",
   "execution_count": 10,
   "metadata": {
    "scrolled": true
   },
   "outputs": [],
   "source": [
    "import math\n",
    "\n",
    "def train_net(model, X_train, y_train, epochs=20, epoch_frac=0.5):\n",
    "    num_samples = len(X_train)\n",
    "    samples_per_epoch = math.ceil(num_samples * epoch_frac)\n",
    "    history = []\n",
    "    for i in range(epochs):\n",
    "        # First we select a random sample from our data for this epoch\n",
    "        batch_indexes = np.random.randint(0, num_samples, samples_per_epoch)\n",
    "        X_batch = X_train[batch_indexes]\n",
    "        y_batch = y_train[batch_indexes]\n",
    "\n",
    "        print('epoch:', i)\n",
    "        h = model.fit(X_batch, y_batch, shuffle=True)\n",
    "        history.append(h)\n",
    "    \n",
    "    return history"
   ]
  },
  {
   "cell_type": "code",
   "execution_count": 11,
   "metadata": {
    "scrolled": true
   },
   "outputs": [
    {
     "name": "stdout",
     "output_type": "stream",
     "text": [
      "epoch: 0\n",
      "Epoch 1/1\n",
      "15000/15000 [==============================] - 1s 74us/step - loss: 2.4791 - acc: 0.2196\n",
      "epoch: 1\n",
      "Epoch 1/1\n",
      "15000/15000 [==============================] - 1s 51us/step - loss: 2.1445 - acc: 0.3553\n",
      "epoch: 2\n",
      "Epoch 1/1\n",
      "15000/15000 [==============================] - 1s 46us/step - loss: 1.9629 - acc: 0.4033\n",
      "epoch: 3\n",
      "Epoch 1/1\n",
      "15000/15000 [==============================] - 1s 46us/step - loss: 1.8264 - acc: 0.4526\n",
      "epoch: 4\n",
      "Epoch 1/1\n",
      "15000/15000 [==============================] - 1s 49us/step - loss: 1.7617 - acc: 0.4563\n",
      "epoch: 5\n",
      "Epoch 1/1\n",
      "15000/15000 [==============================] - 1s 45us/step - loss: 1.7110 - acc: 0.4771\n",
      "epoch: 6\n",
      "Epoch 1/1\n",
      "15000/15000 [==============================] - 1s 44us/step - loss: 1.6542 - acc: 0.4915\n",
      "epoch: 7\n",
      "Epoch 1/1\n",
      "15000/15000 [==============================] - 1s 53us/step - loss: 1.6542 - acc: 0.4892\n",
      "epoch: 8\n",
      "Epoch 1/1\n",
      "15000/15000 [==============================] - 1s 75us/step - loss: 1.6154 - acc: 0.5095\n",
      "epoch: 9\n",
      "Epoch 1/1\n",
      "15000/15000 [==============================] - 1s 64us/step - loss: 1.5964 - acc: 0.5217\n",
      "epoch: 10\n",
      "Epoch 1/1\n",
      "15000/15000 [==============================] - 1s 58us/step - loss: 1.5757 - acc: 0.5253\n",
      "epoch: 11\n",
      "Epoch 1/1\n",
      "15000/15000 [==============================] - 1s 58us/step - loss: 1.5693 - acc: 0.5213\n",
      "epoch: 12\n",
      "Epoch 1/1\n",
      "15000/15000 [==============================] - 1s 53us/step - loss: 1.5508 - acc: 0.5251\n",
      "epoch: 13\n",
      "Epoch 1/1\n",
      "15000/15000 [==============================] - 1s 44us/step - loss: 1.5229 - acc: 0.5318\n",
      "epoch: 14\n",
      "Epoch 1/1\n",
      "   32/15000 [..............................] - ETA: 4s - loss: 1.4297 - acc: 0.5000"
     ]
    },
    {
     "ename": "KeyboardInterrupt",
     "evalue": "",
     "output_type": "error",
     "traceback": [
      "\u001b[0;31m---------------------------------------------------------------------------\u001b[0m",
      "\u001b[0;31mKeyboardInterrupt\u001b[0m                         Traceback (most recent call last)",
      "\u001b[0;32m<ipython-input-11-3e527a505c6e>\u001b[0m in \u001b[0;36m<module>\u001b[0;34m\u001b[0m\n\u001b[0;32m----> 1\u001b[0;31m \u001b[0mtrain_history\u001b[0m \u001b[0;34m=\u001b[0m \u001b[0mtrain_net\u001b[0m\u001b[0;34m(\u001b[0m\u001b[0mqd_model\u001b[0m\u001b[0;34m,\u001b[0m \u001b[0mX_train\u001b[0m\u001b[0;34m,\u001b[0m \u001b[0my_train\u001b[0m\u001b[0;34m,\u001b[0m \u001b[0;36m200\u001b[0m\u001b[0;34m,\u001b[0m \u001b[0;36m0.025\u001b[0m\u001b[0;34m)\u001b[0m\u001b[0;34m\u001b[0m\u001b[0;34m\u001b[0m\u001b[0m\n\u001b[0m",
      "\u001b[0;32m<ipython-input-10-3b1f1e39355e>\u001b[0m in \u001b[0;36mtrain_net\u001b[0;34m(model, X_train, y_train, epochs, epoch_frac)\u001b[0m\n\u001b[1;32m     12\u001b[0m \u001b[0;34m\u001b[0m\u001b[0m\n\u001b[1;32m     13\u001b[0m         \u001b[0mprint\u001b[0m\u001b[0;34m(\u001b[0m\u001b[0;34m'epoch:'\u001b[0m\u001b[0;34m,\u001b[0m \u001b[0mi\u001b[0m\u001b[0;34m)\u001b[0m\u001b[0;34m\u001b[0m\u001b[0;34m\u001b[0m\u001b[0m\n\u001b[0;32m---> 14\u001b[0;31m         \u001b[0mh\u001b[0m \u001b[0;34m=\u001b[0m \u001b[0mmodel\u001b[0m\u001b[0;34m.\u001b[0m\u001b[0mfit\u001b[0m\u001b[0;34m(\u001b[0m\u001b[0mX_batch\u001b[0m\u001b[0;34m,\u001b[0m \u001b[0my_batch\u001b[0m\u001b[0;34m,\u001b[0m \u001b[0mshuffle\u001b[0m\u001b[0;34m=\u001b[0m\u001b[0;32mTrue\u001b[0m\u001b[0;34m)\u001b[0m\u001b[0;34m\u001b[0m\u001b[0;34m\u001b[0m\u001b[0m\n\u001b[0m\u001b[1;32m     15\u001b[0m         \u001b[0mhistory\u001b[0m\u001b[0;34m.\u001b[0m\u001b[0mappend\u001b[0m\u001b[0;34m(\u001b[0m\u001b[0mh\u001b[0m\u001b[0;34m)\u001b[0m\u001b[0;34m\u001b[0m\u001b[0;34m\u001b[0m\u001b[0m\n\u001b[1;32m     16\u001b[0m \u001b[0;34m\u001b[0m\u001b[0m\n",
      "\u001b[0;32m~/projects/WAC/Workshops/Session2/env/lib/python3.6/site-packages/tensorflow/python/keras/engine/training.py\u001b[0m in \u001b[0;36mfit\u001b[0;34m(self, x, y, batch_size, epochs, verbose, callbacks, validation_split, validation_data, shuffle, class_weight, sample_weight, initial_epoch, steps_per_epoch, validation_steps, max_queue_size, workers, use_multiprocessing, **kwargs)\u001b[0m\n\u001b[1;32m   1637\u001b[0m           \u001b[0minitial_epoch\u001b[0m\u001b[0;34m=\u001b[0m\u001b[0minitial_epoch\u001b[0m\u001b[0;34m,\u001b[0m\u001b[0;34m\u001b[0m\u001b[0;34m\u001b[0m\u001b[0m\n\u001b[1;32m   1638\u001b[0m           \u001b[0msteps_per_epoch\u001b[0m\u001b[0;34m=\u001b[0m\u001b[0msteps_per_epoch\u001b[0m\u001b[0;34m,\u001b[0m\u001b[0;34m\u001b[0m\u001b[0;34m\u001b[0m\u001b[0m\n\u001b[0;32m-> 1639\u001b[0;31m           validation_steps=validation_steps)\n\u001b[0m\u001b[1;32m   1640\u001b[0m \u001b[0;34m\u001b[0m\u001b[0m\n\u001b[1;32m   1641\u001b[0m   def evaluate(self,\n",
      "\u001b[0;32m~/projects/WAC/Workshops/Session2/env/lib/python3.6/site-packages/tensorflow/python/keras/engine/training_arrays.py\u001b[0m in \u001b[0;36mfit_loop\u001b[0;34m(model, inputs, targets, sample_weights, batch_size, epochs, verbose, callbacks, val_inputs, val_targets, val_sample_weights, shuffle, initial_epoch, steps_per_epoch, validation_steps)\u001b[0m\n\u001b[1;32m    213\u001b[0m           \u001b[0mins_batch\u001b[0m\u001b[0;34m[\u001b[0m\u001b[0mi\u001b[0m\u001b[0;34m]\u001b[0m \u001b[0;34m=\u001b[0m \u001b[0mins_batch\u001b[0m\u001b[0;34m[\u001b[0m\u001b[0mi\u001b[0m\u001b[0;34m]\u001b[0m\u001b[0;34m.\u001b[0m\u001b[0mtoarray\u001b[0m\u001b[0;34m(\u001b[0m\u001b[0;34m)\u001b[0m\u001b[0;34m\u001b[0m\u001b[0;34m\u001b[0m\u001b[0m\n\u001b[1;32m    214\u001b[0m \u001b[0;34m\u001b[0m\u001b[0m\n\u001b[0;32m--> 215\u001b[0;31m         \u001b[0mouts\u001b[0m \u001b[0;34m=\u001b[0m \u001b[0mf\u001b[0m\u001b[0;34m(\u001b[0m\u001b[0mins_batch\u001b[0m\u001b[0;34m)\u001b[0m\u001b[0;34m\u001b[0m\u001b[0;34m\u001b[0m\u001b[0m\n\u001b[0m\u001b[1;32m    216\u001b[0m         \u001b[0;32mif\u001b[0m \u001b[0;32mnot\u001b[0m \u001b[0misinstance\u001b[0m\u001b[0;34m(\u001b[0m\u001b[0mouts\u001b[0m\u001b[0;34m,\u001b[0m \u001b[0mlist\u001b[0m\u001b[0;34m)\u001b[0m\u001b[0;34m:\u001b[0m\u001b[0;34m\u001b[0m\u001b[0;34m\u001b[0m\u001b[0m\n\u001b[1;32m    217\u001b[0m           \u001b[0mouts\u001b[0m \u001b[0;34m=\u001b[0m \u001b[0;34m[\u001b[0m\u001b[0mouts\u001b[0m\u001b[0;34m]\u001b[0m\u001b[0;34m\u001b[0m\u001b[0;34m\u001b[0m\u001b[0m\n",
      "\u001b[0;32m~/projects/WAC/Workshops/Session2/env/lib/python3.6/site-packages/tensorflow/python/keras/backend.py\u001b[0m in \u001b[0;36m__call__\u001b[0;34m(self, inputs)\u001b[0m\n\u001b[1;32m   2984\u001b[0m \u001b[0;34m\u001b[0m\u001b[0m\n\u001b[1;32m   2985\u001b[0m     fetched = self._callable_fn(*array_vals,\n\u001b[0;32m-> 2986\u001b[0;31m                                 run_metadata=self.run_metadata)\n\u001b[0m\u001b[1;32m   2987\u001b[0m     \u001b[0mself\u001b[0m\u001b[0;34m.\u001b[0m\u001b[0m_call_fetch_callbacks\u001b[0m\u001b[0;34m(\u001b[0m\u001b[0mfetched\u001b[0m\u001b[0;34m[\u001b[0m\u001b[0;34m-\u001b[0m\u001b[0mlen\u001b[0m\u001b[0;34m(\u001b[0m\u001b[0mself\u001b[0m\u001b[0;34m.\u001b[0m\u001b[0m_fetches\u001b[0m\u001b[0;34m)\u001b[0m\u001b[0;34m:\u001b[0m\u001b[0;34m]\u001b[0m\u001b[0;34m)\u001b[0m\u001b[0;34m\u001b[0m\u001b[0;34m\u001b[0m\u001b[0m\n\u001b[1;32m   2988\u001b[0m     \u001b[0;32mreturn\u001b[0m \u001b[0mfetched\u001b[0m\u001b[0;34m[\u001b[0m\u001b[0;34m:\u001b[0m\u001b[0mlen\u001b[0m\u001b[0;34m(\u001b[0m\u001b[0mself\u001b[0m\u001b[0;34m.\u001b[0m\u001b[0moutputs\u001b[0m\u001b[0;34m)\u001b[0m\u001b[0;34m]\u001b[0m\u001b[0;34m\u001b[0m\u001b[0;34m\u001b[0m\u001b[0m\n",
      "\u001b[0;32m~/projects/WAC/Workshops/Session2/env/lib/python3.6/site-packages/tensorflow/python/client/session.py\u001b[0m in \u001b[0;36m__call__\u001b[0;34m(self, *args, **kwargs)\u001b[0m\n\u001b[1;32m   1437\u001b[0m           ret = tf_session.TF_SessionRunCallable(\n\u001b[1;32m   1438\u001b[0m               \u001b[0mself\u001b[0m\u001b[0;34m.\u001b[0m\u001b[0m_session\u001b[0m\u001b[0;34m.\u001b[0m\u001b[0m_session\u001b[0m\u001b[0;34m,\u001b[0m \u001b[0mself\u001b[0m\u001b[0;34m.\u001b[0m\u001b[0m_handle\u001b[0m\u001b[0;34m,\u001b[0m \u001b[0margs\u001b[0m\u001b[0;34m,\u001b[0m \u001b[0mstatus\u001b[0m\u001b[0;34m,\u001b[0m\u001b[0;34m\u001b[0m\u001b[0;34m\u001b[0m\u001b[0m\n\u001b[0;32m-> 1439\u001b[0;31m               run_metadata_ptr)\n\u001b[0m\u001b[1;32m   1440\u001b[0m         \u001b[0;32mif\u001b[0m \u001b[0mrun_metadata\u001b[0m\u001b[0;34m:\u001b[0m\u001b[0;34m\u001b[0m\u001b[0;34m\u001b[0m\u001b[0m\n\u001b[1;32m   1441\u001b[0m           \u001b[0mproto_data\u001b[0m \u001b[0;34m=\u001b[0m \u001b[0mtf_session\u001b[0m\u001b[0;34m.\u001b[0m\u001b[0mTF_GetBuffer\u001b[0m\u001b[0;34m(\u001b[0m\u001b[0mrun_metadata_ptr\u001b[0m\u001b[0;34m)\u001b[0m\u001b[0;34m\u001b[0m\u001b[0;34m\u001b[0m\u001b[0m\n",
      "\u001b[0;31mKeyboardInterrupt\u001b[0m: "
     ]
    }
   ],
   "source": [
    "train_history = train_net(qd_model, X_train, y_train, 200, 0.025)"
   ]
  },
  {
   "cell_type": "code",
   "execution_count": 12,
   "metadata": {},
   "outputs": [],
   "source": [
    "def evaluate_model(model, X_test, y_test):\n",
    "    e = model.evaluate(X_test, y_test)\n",
    "    print('loss:', e[0])\n",
    "    print('accuracy:', e[1])"
   ]
  },
  {
   "cell_type": "code",
   "execution_count": 13,
   "metadata": {},
   "outputs": [
    {
     "name": "stdout",
     "output_type": "stream",
     "text": [
      "150000/150000 [==============================] - 4s 26us/step\n",
      "loss: 1.5300652053451538\n",
      "accuracy: 0.5324333333333333\n"
     ]
    }
   ],
   "source": [
    "evaluate_model(qd_model, X_test, y_test)"
   ]
  },
  {
   "cell_type": "markdown",
   "metadata": {},
   "source": [
    "### Visualizing the training history\n",
    "It's important for us to visualize how our model had been training to identify things we need to change or problems we're having."
   ]
  },
  {
   "cell_type": "code",
   "execution_count": 14,
   "metadata": {},
   "outputs": [],
   "source": [
    "def show_history(history):\n",
    "    loss = []\n",
    "    accuracy = []\n",
    "    \n",
    "    for h in history:\n",
    "        loss.append(h.history['loss'])\n",
    "        accuracy.append(h.history['acc'])\n",
    "    \n",
    "    plt.xlabel('epoch')\n",
    "    plt.ylabel('val')\n",
    "    plt.plot(loss)\n",
    "    plt.plot(accuracy)\n",
    "    plt.legend(['loss', 'accuracy'])"
   ]
  },
  {
   "cell_type": "code",
   "execution_count": 15,
   "metadata": {},
   "outputs": [
    {
     "ename": "NameError",
     "evalue": "name 'train_history' is not defined",
     "output_type": "error",
     "traceback": [
      "\u001b[0;31m---------------------------------------------------------------------------\u001b[0m",
      "\u001b[0;31mNameError\u001b[0m                                 Traceback (most recent call last)",
      "\u001b[0;32m<ipython-input-15-b1db52faa0cc>\u001b[0m in \u001b[0;36m<module>\u001b[0;34m\u001b[0m\n\u001b[1;32m      1\u001b[0m \u001b[0mplt\u001b[0m\u001b[0;34m.\u001b[0m\u001b[0mtitle\u001b[0m\u001b[0;34m(\u001b[0m\u001b[0;34m'Network 1 Training History'\u001b[0m\u001b[0;34m)\u001b[0m\u001b[0;34m\u001b[0m\u001b[0;34m\u001b[0m\u001b[0m\n\u001b[0;32m----> 2\u001b[0;31m \u001b[0mshow_history\u001b[0m\u001b[0;34m(\u001b[0m\u001b[0mtrain_history\u001b[0m\u001b[0;34m)\u001b[0m\u001b[0;34m\u001b[0m\u001b[0;34m\u001b[0m\u001b[0m\n\u001b[0m",
      "\u001b[0;31mNameError\u001b[0m: name 'train_history' is not defined"
     ]
    },
    {
     "data": {
      "image/png": "[encoded data removed]",
      "text/plain": [
       "<Figure size 432x288 with 1 Axes>"
      ]
     },
     "metadata": {
      "needs_background": "light"
     },
     "output_type": "display_data"
    }
   ],
   "source": [
    "plt.title('Network 1 Training History')\n",
    "show_history(train_history)"
   ]
  },
  {
   "cell_type": "code",
   "execution_count": 16,
   "metadata": {},
   "outputs": [],
   "source": [
    "def random_test_prediction(model, i=None):\n",
    "    i = np.random.randint(0, len(X_test)) if i is None else i\n",
    "\n",
    "    pred = model.predict(np.array([X_test[i]]))\n",
    "\n",
    "    plt.imshow(X_test[i].reshape(28, 28), cmap='gray')\n",
    "\n",
    "    np.set_printoptions(precision=3, suppress=True)\n",
    "    print('index:', i)\n",
    "\n",
    "    print('prediction output:', pred)\n",
    "\n",
    "    print('true class:', classes[y_test[i]])\n",
    "    print('predicted class:', classes[np.argmax(pred)])\n",
    "    print('confidence:', pred.max())"
   ]
  },
  {
   "cell_type": "code",
   "execution_count": null,
   "metadata": {},
   "outputs": [],
   "source": [
    "random_test_prediction(qd_model)"
   ]
  },
  {
   "cell_type": "code",
   "execution_count": 339,
   "metadata": {},
   "outputs": [],
   "source": [
    "qd_model.save('models/net1.h5')"
   ]
  },
  {
   "cell_type": "code",
   "execution_count": 17,
   "metadata": {},
   "outputs": [],
   "source": [
    "del qd_model"
   ]
  },
  {
   "cell_type": "markdown",
   "metadata": {},
   "source": [
    "## Network 2: More Neurons\n",
    "For the next network we'll add more neurons to our one layer.\n",
    "\n",
    "This should be able to better fit our data as we saw before."
   ]
  },
  {
   "cell_type": "code",
   "execution_count": 347,
   "metadata": {
    "scrolled": false
   },
   "outputs": [
    {
     "name": "stdout",
     "output_type": "stream",
     "text": [
      "_________________________________________________________________\n",
      "Layer (type)                 Output Shape              Param #   \n",
      "=================================================================\n",
      "dense_80 (Dense)             (None, 32)                25120     \n",
      "_________________________________________________________________\n",
      "dense_81 (Dense)             (None, 15)                495       \n",
      "=================================================================\n",
      "Total params: 25,615\n",
      "Trainable params: 25,615\n",
      "Non-trainable params: 0\n",
      "_________________________________________________________________\n"
     ]
    }
   ],
   "source": [
    "from tensorflow.keras.models import Sequential\n",
    "from tensorflow.keras.layers import Input, Dense, Activation\n",
    "\n",
    "qd_model = Sequential([\n",
    "    Dense(32, input_shape=(784,), activation='sigmoid'),\n",
    "    Dense(len(classes), activation='softmax'),\n",
    "])\n",
    "\n",
    "qd_model.compile(optimizer='adam', \n",
    "                   loss='sparse_categorical_crossentropy',\n",
    "                   metrics=['accuracy'])\n",
    "\n",
    "qd_model.summary()"
   ]
  },
  {
   "cell_type": "code",
   "execution_count": 348,
   "metadata": {
    "scrolled": true
   },
   "outputs": [
    {
     "name": "stdout",
     "output_type": "stream",
     "text": [
      "epoch: 0\n",
      "Epoch 1/1\n",
      "15000/15000 [==============================] - 3s 173us/step - loss: 2.2375 - acc: 0.3343\n",
      "epoch: 1\n",
      "Epoch 1/1\n",
      "15000/15000 [==============================] - 1s 43us/step - loss: 1.6747 - acc: 0.5209\n",
      "epoch: 2\n",
      "Epoch 1/1\n",
      "15000/15000 [==============================] - 1s 44us/step - loss: 1.4898 - acc: 0.5701\n",
      "epoch: 3\n",
      "Epoch 1/1\n",
      "15000/15000 [==============================] - 1s 44us/step - loss: 1.3759 - acc: 0.6003\n",
      "epoch: 4\n",
      "Epoch 1/1\n",
      "15000/15000 [==============================] - 1s 44us/step - loss: 1.3709 - acc: 0.5946\n",
      "epoch: 5\n",
      "Epoch 1/1\n",
      "15000/15000 [==============================] - 1s 44us/step - loss: 1.2784 - acc: 0.6177\n",
      "epoch: 6\n",
      "Epoch 1/1\n",
      "15000/15000 [==============================] - 1s 44us/step - loss: 1.2757 - acc: 0.6195\n",
      "epoch: 7\n",
      "Epoch 1/1\n",
      "15000/15000 [==============================] - 1s 47us/step - loss: 1.2401 - acc: 0.6268\n",
      "epoch: 8\n",
      "Epoch 1/1\n",
      "15000/15000 [==============================] - 1s 45us/step - loss: 1.2588 - acc: 0.6259\n",
      "epoch: 9\n",
      "Epoch 1/1\n",
      "15000/15000 [==============================] - 1s 50us/step - loss: 1.2299 - acc: 0.6329\n",
      "epoch: 10\n",
      "Epoch 1/1\n",
      "15000/15000 [==============================] - 1s 45us/step - loss: 1.2030 - acc: 0.6404\n",
      "epoch: 11\n",
      "Epoch 1/1\n",
      "15000/15000 [==============================] - 1s 45us/step - loss: 1.1936 - acc: 0.6473\n",
      "epoch: 12\n",
      "Epoch 1/1\n",
      "15000/15000 [==============================] - 1s 47us/step - loss: 1.2164 - acc: 0.6333\n",
      "epoch: 13\n",
      "Epoch 1/1\n",
      "15000/15000 [==============================] - 1s 45us/step - loss: 1.1800 - acc: 0.6457\n",
      "epoch: 14\n",
      "Epoch 1/1\n",
      "15000/15000 [==============================] - 1s 47us/step - loss: 1.1883 - acc: 0.6415\n",
      "epoch: 15\n",
      "Epoch 1/1\n",
      "15000/15000 [==============================] - 1s 49us/step - loss: 1.1824 - acc: 0.6414\n",
      "epoch: 16\n",
      "Epoch 1/1\n",
      "15000/15000 [==============================] - 1s 47us/step - loss: 1.1829 - acc: 0.6441\n",
      "epoch: 17\n",
      "Epoch 1/1\n",
      "15000/15000 [==============================] - 1s 46us/step - loss: 1.1992 - acc: 0.6381\n",
      "epoch: 18\n",
      "Epoch 1/1\n",
      "15000/15000 [==============================] - 1s 46us/step - loss: 1.1728 - acc: 0.6491\n",
      "epoch: 19\n",
      "Epoch 1/1\n",
      "15000/15000 [==============================] - 1s 46us/step - loss: 1.1766 - acc: 0.6453\n",
      "epoch: 20\n",
      "Epoch 1/1\n",
      "15000/15000 [==============================] - 1s 49us/step - loss: 1.1633 - acc: 0.6546\n",
      "epoch: 21\n",
      "Epoch 1/1\n",
      "15000/15000 [==============================] - 1s 45us/step - loss: 1.1599 - acc: 0.6497\n",
      "epoch: 22\n",
      "Epoch 1/1\n",
      "15000/15000 [==============================] - 1s 48us/step - loss: 1.1213 - acc: 0.6647\n",
      "epoch: 23\n",
      "Epoch 1/1\n",
      "15000/15000 [==============================] - 1s 47us/step - loss: 1.1242 - acc: 0.6653\n",
      "epoch: 24\n",
      "Epoch 1/1\n",
      "15000/15000 [==============================] - 1s 45us/step - loss: 1.1475 - acc: 0.6550\n",
      "epoch: 25\n",
      "Epoch 1/1\n",
      "15000/15000 [==============================] - 1s 46us/step - loss: 1.1307 - acc: 0.6607\n",
      "epoch: 26\n",
      "Epoch 1/1\n",
      "15000/15000 [==============================] - 1s 46us/step - loss: 1.1442 - acc: 0.6615\n",
      "epoch: 27\n",
      "Epoch 1/1\n",
      "15000/15000 [==============================] - 1s 46us/step - loss: 1.1347 - acc: 0.6603\n",
      "epoch: 28\n",
      "Epoch 1/1\n",
      "15000/15000 [==============================] - 1s 45us/step - loss: 1.1249 - acc: 0.6611\n",
      "epoch: 29\n",
      "Epoch 1/1\n",
      "15000/15000 [==============================] - 1s 49us/step - loss: 1.1568 - acc: 0.6541\n",
      "epoch: 30\n",
      "Epoch 1/1\n",
      "15000/15000 [==============================] - 1s 46us/step - loss: 1.1250 - acc: 0.6653\n",
      "epoch: 31\n",
      "Epoch 1/1\n",
      "15000/15000 [==============================] - 1s 45us/step - loss: 1.1063 - acc: 0.6700\n",
      "epoch: 32\n",
      "Epoch 1/1\n",
      "15000/15000 [==============================] - 1s 46us/step - loss: 1.1274 - acc: 0.6612\n",
      "epoch: 33\n",
      "Epoch 1/1\n",
      "15000/15000 [==============================] - 1s 46us/step - loss: 1.1311 - acc: 0.6634\n",
      "epoch: 34\n",
      "Epoch 1/1\n",
      "15000/15000 [==============================] - 1s 46us/step - loss: 1.1322 - acc: 0.6590\n",
      "epoch: 35\n",
      "Epoch 1/1\n",
      "15000/15000 [==============================] - 1s 46us/step - loss: 1.1098 - acc: 0.6705\n",
      "epoch: 36\n",
      "Epoch 1/1\n",
      "15000/15000 [==============================] - 1s 45us/step - loss: 1.1082 - acc: 0.6683\n",
      "epoch: 37\n",
      "Epoch 1/1\n",
      "15000/15000 [==============================] - 1s 44us/step - loss: 1.0819 - acc: 0.6753\n",
      "epoch: 38\n",
      "Epoch 1/1\n",
      "15000/15000 [==============================] - 1s 46us/step - loss: 1.0959 - acc: 0.6711\n",
      "epoch: 39\n",
      "Epoch 1/1\n",
      "15000/15000 [==============================] - 1s 44us/step - loss: 1.0942 - acc: 0.6743\n",
      "epoch: 40\n",
      "Epoch 1/1\n",
      "15000/15000 [==============================] - 1s 47us/step - loss: 1.1135 - acc: 0.6709\n",
      "epoch: 41\n",
      "Epoch 1/1\n",
      "15000/15000 [==============================] - 1s 46us/step - loss: 1.0819 - acc: 0.6773\n",
      "epoch: 42\n",
      "Epoch 1/1\n",
      "15000/15000 [==============================] - 1s 45us/step - loss: 1.0782 - acc: 0.6770\n",
      "epoch: 43\n",
      "Epoch 1/1\n",
      "15000/15000 [==============================] - 1s 44us/step - loss: 1.0783 - acc: 0.6777\n",
      "epoch: 44\n",
      "Epoch 1/1\n",
      "15000/15000 [==============================] - 1s 46us/step - loss: 1.0680 - acc: 0.6848\n",
      "epoch: 45\n",
      "Epoch 1/1\n",
      "15000/15000 [==============================] - 1s 47us/step - loss: 1.0612 - acc: 0.6827\n",
      "epoch: 46\n",
      "Epoch 1/1\n",
      "15000/15000 [==============================] - 1s 46us/step - loss: 1.1089 - acc: 0.6735\n",
      "epoch: 47\n",
      "Epoch 1/1\n",
      "15000/15000 [==============================] - 1s 47us/step - loss: 1.0869 - acc: 0.6748\n",
      "epoch: 48\n",
      "Epoch 1/1\n",
      "15000/15000 [==============================] - 1s 47us/step - loss: 1.0573 - acc: 0.6864\n",
      "epoch: 49\n",
      "Epoch 1/1\n",
      "15000/15000 [==============================] - 1s 46us/step - loss: 1.0725 - acc: 0.6761\n",
      "epoch: 50\n",
      "Epoch 1/1\n",
      "15000/15000 [==============================] - 1s 47us/step - loss: 1.0473 - acc: 0.6921\n",
      "epoch: 51\n",
      "Epoch 1/1\n",
      "15000/15000 [==============================] - 1s 47us/step - loss: 1.0542 - acc: 0.6858\n",
      "epoch: 52\n",
      "Epoch 1/1\n",
      "15000/15000 [==============================] - 1s 46us/step - loss: 1.0605 - acc: 0.6870\n",
      "epoch: 53\n",
      "Epoch 1/1\n",
      "15000/15000 [==============================] - 1s 46us/step - loss: 1.0767 - acc: 0.6797\n",
      "epoch: 54\n",
      "Epoch 1/1\n",
      "15000/15000 [==============================] - 1s 46us/step - loss: 1.0833 - acc: 0.6805\n",
      "epoch: 55\n",
      "Epoch 1/1\n",
      "15000/15000 [==============================] - 1s 46us/step - loss: 1.0462 - acc: 0.6898\n",
      "epoch: 56\n",
      "Epoch 1/1\n",
      "15000/15000 [==============================] - 1s 45us/step - loss: 1.0807 - acc: 0.6777\n",
      "epoch: 57\n",
      "Epoch 1/1\n",
      "15000/15000 [==============================] - 1s 47us/step - loss: 1.0924 - acc: 0.6716\n",
      "epoch: 58\n",
      "Epoch 1/1\n",
      "15000/15000 [==============================] - 1s 46us/step - loss: 1.0577 - acc: 0.6849\n",
      "epoch: 59\n",
      "Epoch 1/1\n",
      "15000/15000 [==============================] - 1s 47us/step - loss: 1.0647 - acc: 0.6807\n",
      "epoch: 60\n",
      "Epoch 1/1\n",
      "15000/15000 [==============================] - 1s 47us/step - loss: 1.0628 - acc: 0.6794\n",
      "epoch: 61\n",
      "Epoch 1/1\n",
      "15000/15000 [==============================] - 1s 46us/step - loss: 1.0501 - acc: 0.6913\n",
      "epoch: 62\n",
      "Epoch 1/1\n",
      "15000/15000 [==============================] - 1s 46us/step - loss: 1.0595 - acc: 0.6912\n",
      "epoch: 63\n",
      "Epoch 1/1\n",
      "15000/15000 [==============================] - 1s 47us/step - loss: 1.0737 - acc: 0.6859\n",
      "epoch: 64\n",
      "Epoch 1/1\n",
      "15000/15000 [==============================] - 1s 48us/step - loss: 1.0653 - acc: 0.6821\n",
      "epoch: 65\n",
      "Epoch 1/1\n",
      "15000/15000 [==============================] - 1s 46us/step - loss: 1.0522 - acc: 0.6879\n",
      "epoch: 66\n",
      "Epoch 1/1\n",
      "15000/15000 [==============================] - 1s 47us/step - loss: 1.0539 - acc: 0.6901\n",
      "epoch: 67\n",
      "Epoch 1/1\n",
      "15000/15000 [==============================] - 1s 48us/step - loss: 1.0450 - acc: 0.6893\n",
      "epoch: 68\n",
      "Epoch 1/1\n",
      "15000/15000 [==============================] - 1s 49us/step - loss: 1.0431 - acc: 0.6907\n",
      "epoch: 69\n",
      "Epoch 1/1\n",
      "15000/15000 [==============================] - 1s 48us/step - loss: 1.0235 - acc: 0.6926\n",
      "epoch: 70\n",
      "Epoch 1/1\n",
      "15000/15000 [==============================] - 1s 48us/step - loss: 1.0568 - acc: 0.6907\n",
      "epoch: 71\n",
      "Epoch 1/1\n",
      "15000/15000 [==============================] - 1s 47us/step - loss: 1.0456 - acc: 0.6885\n",
      "epoch: 72\n",
      "Epoch 1/1\n",
      "15000/15000 [==============================] - 1s 49us/step - loss: 1.0419 - acc: 0.6929\n",
      "epoch: 73\n",
      "Epoch 1/1\n",
      "15000/15000 [==============================] - 1s 47us/step - loss: 1.0462 - acc: 0.6915\n",
      "epoch: 74\n",
      "Epoch 1/1\n",
      "15000/15000 [==============================] - 1s 48us/step - loss: 1.0562 - acc: 0.6854\n",
      "epoch: 75\n",
      "Epoch 1/1\n",
      "15000/15000 [==============================] - 1s 46us/step - loss: 1.0472 - acc: 0.6898\n",
      "epoch: 76\n",
      "Epoch 1/1\n",
      "15000/15000 [==============================] - 1s 46us/step - loss: 1.0360 - acc: 0.6939\n",
      "epoch: 77\n",
      "Epoch 1/1\n",
      "15000/15000 [==============================] - 1s 46us/step - loss: 1.0507 - acc: 0.6850\n",
      "epoch: 78\n",
      "Epoch 1/1\n",
      "15000/15000 [==============================] - 1s 45us/step - loss: 1.0378 - acc: 0.6932\n",
      "epoch: 79\n",
      "Epoch 1/1\n",
      "15000/15000 [==============================] - 1s 51us/step - loss: 1.0313 - acc: 0.6982\n",
      "epoch: 80\n",
      "Epoch 1/1\n",
      "15000/15000 [==============================] - 1s 64us/step - loss: 1.0194 - acc: 0.6971\n",
      "epoch: 81\n",
      "Epoch 1/1\n",
      "15000/15000 [==============================] - 1s 49us/step - loss: 1.0540 - acc: 0.6841\n",
      "epoch: 82\n",
      "Epoch 1/1\n",
      "15000/15000 [==============================] - 1s 46us/step - loss: 1.0771 - acc: 0.6814\n",
      "epoch: 83\n",
      "Epoch 1/1\n",
      "15000/15000 [==============================] - 1s 45us/step - loss: 1.0450 - acc: 0.6873\n",
      "epoch: 84\n",
      "Epoch 1/1\n",
      "15000/15000 [==============================] - 1s 46us/step - loss: 1.0397 - acc: 0.6877\n",
      "epoch: 85\n",
      "Epoch 1/1\n",
      "15000/15000 [==============================] - 1s 46us/step - loss: 1.0602 - acc: 0.6869\n",
      "epoch: 86\n",
      "Epoch 1/1\n",
      "15000/15000 [==============================] - 1s 45us/step - loss: 1.0559 - acc: 0.6886\n",
      "epoch: 87\n",
      "Epoch 1/1\n",
      "15000/15000 [==============================] - 1s 46us/step - loss: 1.0215 - acc: 0.7026\n",
      "epoch: 88\n",
      "Epoch 1/1\n",
      "15000/15000 [==============================] - 1s 46us/step - loss: 1.0321 - acc: 0.7010\n",
      "epoch: 89\n",
      "Epoch 1/1\n",
      "15000/15000 [==============================] - 1s 45us/step - loss: 1.0185 - acc: 0.7001\n",
      "epoch: 90\n",
      "Epoch 1/1\n",
      "15000/15000 [==============================] - 1s 45us/step - loss: 1.0397 - acc: 0.6927\n",
      "epoch: 91\n",
      "Epoch 1/1\n",
      "15000/15000 [==============================] - 1s 44us/step - loss: 1.0176 - acc: 0.6981\n",
      "epoch: 92\n",
      "Epoch 1/1\n",
      "15000/15000 [==============================] - 1s 45us/step - loss: 1.0311 - acc: 0.6896\n",
      "epoch: 93\n",
      "Epoch 1/1\n",
      "15000/15000 [==============================] - 1s 45us/step - loss: 1.0195 - acc: 0.7018\n",
      "epoch: 94\n",
      "Epoch 1/1\n",
      "15000/15000 [==============================] - 1s 46us/step - loss: 1.0112 - acc: 0.6994\n",
      "epoch: 95\n",
      "Epoch 1/1\n",
      "15000/15000 [==============================] - 1s 44us/step - loss: 1.0210 - acc: 0.6974\n",
      "epoch: 96\n",
      "Epoch 1/1\n",
      "15000/15000 [==============================] - 1s 43us/step - loss: 1.0343 - acc: 0.6961\n",
      "epoch: 97\n",
      "Epoch 1/1\n",
      "15000/15000 [==============================] - 1s 47us/step - loss: 0.9874 - acc: 0.7041\n",
      "epoch: 98\n",
      "Epoch 1/1\n",
      "15000/15000 [==============================] - 1s 45us/step - loss: 1.0012 - acc: 0.7009\n",
      "epoch: 99\n",
      "Epoch 1/1\n",
      "15000/15000 [==============================] - 1s 45us/step - loss: 1.0386 - acc: 0.6917\n",
      "epoch: 100\n",
      "Epoch 1/1\n",
      "15000/15000 [==============================] - 1s 44us/step - loss: 1.0002 - acc: 0.7032\n",
      "epoch: 101\n",
      "Epoch 1/1\n",
      "15000/15000 [==============================] - 1s 45us/step - loss: 1.0103 - acc: 0.6999\n",
      "epoch: 102\n",
      "Epoch 1/1\n",
      "15000/15000 [==============================] - 1s 45us/step - loss: 1.0238 - acc: 0.6963\n",
      "epoch: 103\n",
      "Epoch 1/1\n",
      "15000/15000 [==============================] - 1s 45us/step - loss: 1.0104 - acc: 0.6988\n",
      "epoch: 104\n",
      "Epoch 1/1\n",
      "15000/15000 [==============================] - 1s 44us/step - loss: 0.9938 - acc: 0.7064\n",
      "epoch: 105\n",
      "Epoch 1/1\n",
      "15000/15000 [==============================] - 1s 44us/step - loss: 0.9821 - acc: 0.7063\n",
      "epoch: 106\n",
      "Epoch 1/1\n",
      "15000/15000 [==============================] - 1s 44us/step - loss: 0.9778 - acc: 0.7095\n",
      "epoch: 107\n",
      "Epoch 1/1\n",
      "15000/15000 [==============================] - 1s 43us/step - loss: 1.0335 - acc: 0.6944\n",
      "epoch: 108\n",
      "Epoch 1/1\n",
      "15000/15000 [==============================] - 1s 44us/step - loss: 1.0171 - acc: 0.6973\n",
      "epoch: 109\n",
      "Epoch 1/1\n",
      "15000/15000 [==============================] - 1s 44us/step - loss: 0.9946 - acc: 0.7014\n",
      "epoch: 110\n",
      "Epoch 1/1\n",
      "15000/15000 [==============================] - 1s 45us/step - loss: 0.9726 - acc: 0.7109\n",
      "epoch: 111\n",
      "Epoch 1/1\n",
      "15000/15000 [==============================] - 1s 44us/step - loss: 1.0350 - acc: 0.6894\n",
      "epoch: 112\n",
      "Epoch 1/1\n",
      "15000/15000 [==============================] - 1s 45us/step - loss: 0.9981 - acc: 0.7091\n",
      "epoch: 113\n",
      "Epoch 1/1\n",
      "15000/15000 [==============================] - 1s 47us/step - loss: 1.0198 - acc: 0.6963\n",
      "epoch: 114\n",
      "Epoch 1/1\n",
      "15000/15000 [==============================] - 1s 44us/step - loss: 1.0161 - acc: 0.6985\n",
      "epoch: 115\n",
      "Epoch 1/1\n",
      "15000/15000 [==============================] - 1s 45us/step - loss: 0.9936 - acc: 0.7039\n",
      "epoch: 116\n",
      "Epoch 1/1\n",
      "15000/15000 [==============================] - 1s 45us/step - loss: 1.0051 - acc: 0.7043\n",
      "epoch: 117\n",
      "Epoch 1/1\n",
      "15000/15000 [==============================] - 1s 46us/step - loss: 1.0293 - acc: 0.6923\n",
      "epoch: 118\n",
      "Epoch 1/1\n",
      "15000/15000 [==============================] - 1s 45us/step - loss: 1.0170 - acc: 0.6953\n",
      "epoch: 119\n",
      "Epoch 1/1\n",
      "15000/15000 [==============================] - 1s 45us/step - loss: 1.0043 - acc: 0.7030\n",
      "epoch: 120\n",
      "Epoch 1/1\n",
      "15000/15000 [==============================] - 1s 45us/step - loss: 1.0004 - acc: 0.7054\n",
      "epoch: 121\n",
      "Epoch 1/1\n",
      "15000/15000 [==============================] - 1s 43us/step - loss: 1.0225 - acc: 0.6972\n",
      "epoch: 122\n",
      "Epoch 1/1\n",
      "15000/15000 [==============================] - 1s 44us/step - loss: 1.0089 - acc: 0.7021\n",
      "epoch: 123\n",
      "Epoch 1/1\n",
      "15000/15000 [==============================] - 1s 45us/step - loss: 1.0031 - acc: 0.7028\n",
      "epoch: 124\n",
      "Epoch 1/1\n",
      "15000/15000 [==============================] - 1s 46us/step - loss: 1.0076 - acc: 0.7055\n",
      "epoch: 125\n",
      "Epoch 1/1\n",
      "15000/15000 [==============================] - 1s 45us/step - loss: 1.0042 - acc: 0.7025\n",
      "epoch: 126\n",
      "Epoch 1/1\n",
      "15000/15000 [==============================] - 1s 47us/step - loss: 1.0063 - acc: 0.7010\n",
      "epoch: 127\n",
      "Epoch 1/1\n",
      "15000/15000 [==============================] - 1s 45us/step - loss: 1.0053 - acc: 0.7000\n",
      "epoch: 128\n",
      "Epoch 1/1\n",
      "15000/15000 [==============================] - 1s 48us/step - loss: 1.0287 - acc: 0.6936\n",
      "epoch: 129\n",
      "Epoch 1/1\n",
      "15000/15000 [==============================] - 1s 45us/step - loss: 1.0002 - acc: 0.7057\n",
      "epoch: 130\n",
      "Epoch 1/1\n",
      "15000/15000 [==============================] - 1s 45us/step - loss: 1.0361 - acc: 0.6923\n",
      "epoch: 131\n",
      "Epoch 1/1\n",
      "15000/15000 [==============================] - 1s 46us/step - loss: 1.0260 - acc: 0.6977\n",
      "epoch: 132\n",
      "Epoch 1/1\n",
      "15000/15000 [==============================] - 1s 46us/step - loss: 1.0170 - acc: 0.6969\n",
      "epoch: 133\n",
      "Epoch 1/1\n",
      "15000/15000 [==============================] - 1s 46us/step - loss: 0.9967 - acc: 0.7040\n",
      "epoch: 134\n",
      "Epoch 1/1\n",
      "15000/15000 [==============================] - 1s 46us/step - loss: 1.0030 - acc: 0.7025\n",
      "epoch: 135\n",
      "Epoch 1/1\n",
      "15000/15000 [==============================] - 1s 46us/step - loss: 0.9945 - acc: 0.7101\n",
      "epoch: 136\n",
      "Epoch 1/1\n",
      "15000/15000 [==============================] - 1s 46us/step - loss: 0.9741 - acc: 0.7093\n",
      "epoch: 137\n",
      "Epoch 1/1\n",
      "15000/15000 [==============================] - 1s 46us/step - loss: 1.0022 - acc: 0.6977\n",
      "epoch: 138\n",
      "Epoch 1/1\n",
      "15000/15000 [==============================] - 1s 47us/step - loss: 0.9907 - acc: 0.7054\n",
      "epoch: 139\n",
      "Epoch 1/1\n",
      "15000/15000 [==============================] - 1s 53us/step - loss: 1.0142 - acc: 0.6969\n",
      "epoch: 140\n",
      "Epoch 1/1\n",
      "15000/15000 [==============================] - 1s 53us/step - loss: 1.0216 - acc: 0.6983\n",
      "epoch: 141\n",
      "Epoch 1/1\n",
      "15000/15000 [==============================] - 1s 53us/step - loss: 1.0163 - acc: 0.6965\n",
      "epoch: 142\n",
      "Epoch 1/1\n",
      "15000/15000 [==============================] - 1s 52us/step - loss: 1.0104 - acc: 0.7001\n",
      "epoch: 143\n",
      "Epoch 1/1\n",
      "15000/15000 [==============================] - 1s 51us/step - loss: 0.9776 - acc: 0.7101\n",
      "epoch: 144\n",
      "Epoch 1/1\n",
      "15000/15000 [==============================] - 1s 49us/step - loss: 0.9815 - acc: 0.7097\n",
      "epoch: 145\n",
      "Epoch 1/1\n",
      "15000/15000 [==============================] - 2s 145us/step - loss: 0.9822 - acc: 0.7102\n",
      "epoch: 146\n",
      "Epoch 1/1\n",
      "15000/15000 [==============================] - 3s 186us/step - loss: 0.9899 - acc: 0.7077\n",
      "epoch: 147\n",
      "Epoch 1/1\n",
      "15000/15000 [==============================] - 3s 180us/step - loss: 0.9828 - acc: 0.7107\n",
      "epoch: 148\n",
      "Epoch 1/1\n",
      "15000/15000 [==============================] - 3s 186us/step - loss: 0.9923 - acc: 0.7075\n",
      "epoch: 149\n",
      "Epoch 1/1\n"
     ]
    },
    {
     "name": "stdout",
     "output_type": "stream",
     "text": [
      "15000/15000 [==============================] - 3s 180us/step - loss: 1.0123 - acc: 0.7027\n",
      "epoch: 150\n",
      "Epoch 1/1\n",
      "15000/15000 [==============================] - 3s 181us/step - loss: 1.0088 - acc: 0.7102\n",
      "epoch: 151\n",
      "Epoch 1/1\n",
      "15000/15000 [==============================] - 3s 186us/step - loss: 0.9803 - acc: 0.7150\n",
      "epoch: 152\n",
      "Epoch 1/1\n",
      "15000/15000 [==============================] - 3s 180us/step - loss: 1.0052 - acc: 0.7053\n",
      "epoch: 153\n",
      "Epoch 1/1\n",
      "15000/15000 [==============================] - 2s 145us/step - loss: 0.9658 - acc: 0.7081\n",
      "epoch: 154\n",
      "Epoch 1/1\n",
      "15000/15000 [==============================] - 1s 60us/step - loss: 0.9663 - acc: 0.7123\n",
      "epoch: 155\n",
      "Epoch 1/1\n",
      "15000/15000 [==============================] - 1s 72us/step - loss: 0.9933 - acc: 0.7070\n",
      "epoch: 156\n",
      "Epoch 1/1\n",
      "15000/15000 [==============================] - 1s 74us/step - loss: 1.0015 - acc: 0.7031\n",
      "epoch: 157\n",
      "Epoch 1/1\n",
      "15000/15000 [==============================] - 1s 69us/step - loss: 1.0012 - acc: 0.7061\n",
      "epoch: 158\n",
      "Epoch 1/1\n",
      "15000/15000 [==============================] - 1s 68us/step - loss: 0.9733 - acc: 0.7129\n",
      "epoch: 159\n",
      "Epoch 1/1\n",
      "15000/15000 [==============================] - 1s 70us/step - loss: 0.9981 - acc: 0.7041\n",
      "epoch: 160\n",
      "Epoch 1/1\n",
      "15000/15000 [==============================] - 1s 66us/step - loss: 0.9753 - acc: 0.7116\n",
      "epoch: 161\n",
      "Epoch 1/1\n",
      "15000/15000 [==============================] - 1s 66us/step - loss: 0.9786 - acc: 0.7177\n",
      "epoch: 162\n",
      "Epoch 1/1\n",
      "15000/15000 [==============================] - 1s 62us/step - loss: 0.9899 - acc: 0.7115\n",
      "epoch: 163\n",
      "Epoch 1/1\n",
      "15000/15000 [==============================] - 1s 67us/step - loss: 0.9903 - acc: 0.7151\n",
      "epoch: 164\n",
      "Epoch 1/1\n",
      "15000/15000 [==============================] - 1s 79us/step - loss: 0.9743 - acc: 0.7105\n",
      "epoch: 165\n",
      "Epoch 1/1\n",
      "15000/15000 [==============================] - 1s 79us/step - loss: 1.0035 - acc: 0.7071\n",
      "epoch: 166\n",
      "Epoch 1/1\n",
      "15000/15000 [==============================] - 1s 63us/step - loss: 0.9753 - acc: 0.7159\n",
      "epoch: 167\n",
      "Epoch 1/1\n",
      "15000/15000 [==============================] - 1s 63us/step - loss: 0.9816 - acc: 0.7096\n",
      "epoch: 168\n",
      "Epoch 1/1\n",
      "15000/15000 [==============================] - 1s 57us/step - loss: 0.9886 - acc: 0.7087\n",
      "epoch: 169\n",
      "Epoch 1/1\n",
      "15000/15000 [==============================] - 1s 53us/step - loss: 0.9527 - acc: 0.7165\n",
      "epoch: 170\n",
      "Epoch 1/1\n",
      "15000/15000 [==============================] - 1s 59us/step - loss: 0.9699 - acc: 0.7173\n",
      "epoch: 171\n",
      "Epoch 1/1\n",
      "15000/15000 [==============================] - 1s 57us/step - loss: 0.9743 - acc: 0.7173\n",
      "epoch: 172\n",
      "Epoch 1/1\n",
      "15000/15000 [==============================] - 1s 66us/step - loss: 0.9902 - acc: 0.7077\n",
      "epoch: 173\n",
      "Epoch 1/1\n",
      "15000/15000 [==============================] - 1s 51us/step - loss: 0.9875 - acc: 0.7086\n",
      "epoch: 174\n",
      "Epoch 1/1\n",
      "15000/15000 [==============================] - 1s 57us/step - loss: 0.9834 - acc: 0.7099\n",
      "epoch: 175\n",
      "Epoch 1/1\n",
      "15000/15000 [==============================] - 1s 56us/step - loss: 0.9793 - acc: 0.7141\n",
      "epoch: 176\n",
      "Epoch 1/1\n",
      "15000/15000 [==============================] - 1s 58us/step - loss: 0.9871 - acc: 0.7120\n",
      "epoch: 177\n",
      "Epoch 1/1\n",
      "15000/15000 [==============================] - 1s 59us/step - loss: 0.9779 - acc: 0.7117\n",
      "epoch: 178\n",
      "Epoch 1/1\n",
      "15000/15000 [==============================] - 1s 48us/step - loss: 0.9803 - acc: 0.7127\n",
      "epoch: 179\n",
      "Epoch 1/1\n",
      "15000/15000 [==============================] - 1s 49us/step - loss: 0.9832 - acc: 0.7115\n",
      "epoch: 180\n",
      "Epoch 1/1\n",
      "15000/15000 [==============================] - 1s 52us/step - loss: 0.9844 - acc: 0.7095\n",
      "epoch: 181\n",
      "Epoch 1/1\n",
      "15000/15000 [==============================] - 1s 51us/step - loss: 0.9925 - acc: 0.7065\n",
      "epoch: 182\n",
      "Epoch 1/1\n",
      "15000/15000 [==============================] - 1s 50us/step - loss: 0.9935 - acc: 0.7055\n",
      "epoch: 183\n",
      "Epoch 1/1\n",
      "15000/15000 [==============================] - 1s 47us/step - loss: 0.9649 - acc: 0.7137\n",
      "epoch: 184\n",
      "Epoch 1/1\n",
      "15000/15000 [==============================] - 1s 49us/step - loss: 0.9690 - acc: 0.7125\n",
      "epoch: 185\n",
      "Epoch 1/1\n",
      "15000/15000 [==============================] - 1s 51us/step - loss: 0.9625 - acc: 0.7169\n",
      "epoch: 186\n",
      "Epoch 1/1\n",
      "15000/15000 [==============================] - 1s 45us/step - loss: 0.9939 - acc: 0.7073\n",
      "epoch: 187\n",
      "Epoch 1/1\n",
      "15000/15000 [==============================] - 1s 50us/step - loss: 0.9721 - acc: 0.7138\n",
      "epoch: 188\n",
      "Epoch 1/1\n",
      "15000/15000 [==============================] - 1s 48us/step - loss: 0.9555 - acc: 0.7219\n",
      "epoch: 189\n",
      "Epoch 1/1\n",
      "15000/15000 [==============================] - 1s 50us/step - loss: 0.9720 - acc: 0.7131\n",
      "epoch: 190\n",
      "Epoch 1/1\n",
      "15000/15000 [==============================] - 1s 49us/step - loss: 0.9772 - acc: 0.7127\n",
      "epoch: 191\n",
      "Epoch 1/1\n",
      "15000/15000 [==============================] - 1s 50us/step - loss: 0.9657 - acc: 0.7149\n",
      "epoch: 192\n",
      "Epoch 1/1\n",
      "15000/15000 [==============================] - 1s 48us/step - loss: 0.9453 - acc: 0.7227\n",
      "epoch: 193\n",
      "Epoch 1/1\n",
      "15000/15000 [==============================] - 1s 46us/step - loss: 0.9526 - acc: 0.7213\n",
      "epoch: 194\n",
      "Epoch 1/1\n",
      "15000/15000 [==============================] - 1s 43us/step - loss: 0.9419 - acc: 0.7233\n",
      "epoch: 195\n",
      "Epoch 1/1\n",
      "15000/15000 [==============================] - 1s 47us/step - loss: 0.9596 - acc: 0.7182\n",
      "epoch: 196\n",
      "Epoch 1/1\n",
      "15000/15000 [==============================] - 1s 46us/step - loss: 0.9652 - acc: 0.7157\n",
      "epoch: 197\n",
      "Epoch 1/1\n",
      "15000/15000 [==============================] - 1s 45us/step - loss: 0.9431 - acc: 0.7257\n",
      "epoch: 198\n",
      "Epoch 1/1\n",
      "15000/15000 [==============================] - 1s 44us/step - loss: 0.9483 - acc: 0.7205\n",
      "epoch: 199\n",
      "Epoch 1/1\n",
      "15000/15000 [==============================] - 1s 44us/step - loss: 0.9574 - acc: 0.7134\n"
     ]
    }
   ],
   "source": [
    "train_history = train_net(qd_model, X_train, y_train, 200, 0.025)"
   ]
  },
  {
   "cell_type": "code",
   "execution_count": 349,
   "metadata": {},
   "outputs": [
    {
     "name": "stdout",
     "output_type": "stream",
     "text": [
      "150000/150000 [==============================] - 4s 26us/step\n",
      "loss: 0.9546858398056031\n",
      "accuracy: 0.72036\n"
     ]
    }
   ],
   "source": [
    "evaluate_model(qd_model, X_test, y_test)"
   ]
  },
  {
   "cell_type": "code",
   "execution_count": 350,
   "metadata": {},
   "outputs": [
    {
     "data": {
      "image/png": "[encoded data removed]",
      "text/plain": [
       "<Figure size 432x288 with 1 Axes>"
      ]
     },
     "metadata": {
      "needs_background": "light"
     },
     "output_type": "display_data"
    }
   ],
   "source": [
    "show_history(train_history)"
   ]
  },
  {
   "cell_type": "code",
   "execution_count": 360,
   "metadata": {
    "scrolled": false
   },
   "outputs": [
    {
     "name": "stdout",
     "output_type": "stream",
     "text": [
      "index: 41726\n",
      "prediction output: [[0.005 0.022 0.293 0.111 0.004 0.091 0.023 0.057 0.201 0.003 0.046 0.006\n",
      "  0.029 0.005 0.104]]\n",
      "true class: campfire\n",
      "predicted class: campfire\n",
      "confidence: 0.29325217\n"
     ]
    },
    {
     "data": {
      "image/png": "[encoded data removed]",
      "text/plain": [
       "<Figure size 432x288 with 1 Axes>"
      ]
     },
     "metadata": {
      "needs_background": "light"
     },
     "output_type": "display_data"
    }
   ],
   "source": [
    "random_test_prediction(qd_model)"
   ]
  },
  {
   "cell_type": "code",
   "execution_count": 361,
   "metadata": {},
   "outputs": [],
   "source": [
    "qd_model.save('models/net2.h5')"
   ]
  },
  {
   "cell_type": "markdown",
   "metadata": {},
   "source": [
    "## Network 3: More Layers and Neurons\n",
    "Next we'll add more layers AND neurons."
   ]
  },
  {
   "cell_type": "code",
   "execution_count": 3,
   "metadata": {
    "scrolled": true
   },
   "outputs": [
    {
     "ename": "NameError",
     "evalue": "name 'classes' is not defined",
     "output_type": "error",
     "traceback": [
      "\u001b[0;31m---------------------------------------------------------------------------\u001b[0m",
      "\u001b[0;31mNameError\u001b[0m                                 Traceback (most recent call last)",
      "\u001b[0;32m<ipython-input-3-f9c492a9a103>\u001b[0m in \u001b[0;36m<module>\u001b[0;34m\u001b[0m\n\u001b[1;32m      6\u001b[0m     \u001b[0mDense\u001b[0m\u001b[0;34m(\u001b[0m\u001b[0;36m128\u001b[0m\u001b[0;34m,\u001b[0m \u001b[0mactivation\u001b[0m\u001b[0;34m=\u001b[0m\u001b[0;34m'sigmoid'\u001b[0m\u001b[0;34m)\u001b[0m\u001b[0;34m,\u001b[0m\u001b[0;34m\u001b[0m\u001b[0;34m\u001b[0m\u001b[0m\n\u001b[1;32m      7\u001b[0m     \u001b[0mDense\u001b[0m\u001b[0;34m(\u001b[0m\u001b[0;36m128\u001b[0m\u001b[0;34m,\u001b[0m \u001b[0mactivation\u001b[0m\u001b[0;34m=\u001b[0m\u001b[0;34m'sigmoid'\u001b[0m\u001b[0;34m)\u001b[0m\u001b[0;34m,\u001b[0m\u001b[0;34m\u001b[0m\u001b[0;34m\u001b[0m\u001b[0m\n\u001b[0;32m----> 8\u001b[0;31m     \u001b[0mDense\u001b[0m\u001b[0;34m(\u001b[0m\u001b[0mlen\u001b[0m\u001b[0;34m(\u001b[0m\u001b[0mclasses\u001b[0m\u001b[0;34m)\u001b[0m\u001b[0;34m,\u001b[0m \u001b[0mactivation\u001b[0m\u001b[0;34m=\u001b[0m\u001b[0;34m'softmax'\u001b[0m\u001b[0;34m)\u001b[0m\u001b[0;34m,\u001b[0m\u001b[0;34m\u001b[0m\u001b[0;34m\u001b[0m\u001b[0m\n\u001b[0m\u001b[1;32m      9\u001b[0m ])\n\u001b[1;32m     10\u001b[0m \u001b[0;34m\u001b[0m\u001b[0m\n",
      "\u001b[0;31mNameError\u001b[0m: name 'classes' is not defined"
     ]
    }
   ],
   "source": [
    "from tensorflow.keras.models import Sequential\n",
    "from tensorflow.keras.layers import Input, Dense, Activation\n",
    "\n",
    "qd_model = Sequential([\n",
    "    Dense(128, input_shape=(784,), activation='sigmoid'),\n",
    "    Dense(128, activation='sigmoid'),\n",
    "    Dense(128, activation='sigmoid'),\n",
    "    Dense(len(classes), activation='softmax'),\n",
    "])\n",
    "\n",
    "qd_model.compile(optimizer='adam', \n",
    "                 loss='sparse_categorical_crossentropy',\n",
    "                 metrics=['accuracy'])\n",
    "\n",
    "qd_model.summary()"
   ]
  },
  {
   "cell_type": "code",
   "execution_count": 363,
   "metadata": {
    "scrolled": true
   },
   "outputs": [
    {
     "name": "stdout",
     "output_type": "stream",
     "text": [
      "epoch: 0\n",
      "Epoch 1/1\n",
      "15000/15000 [==============================] - 4s 294us/step - loss: 1.9719 - acc: 0.3943\n",
      "epoch: 1\n",
      "Epoch 1/1\n",
      "15000/15000 [==============================] - 2s 125us/step - loss: 1.3385 - acc: 0.5890\n",
      "epoch: 2\n",
      "Epoch 1/1\n",
      "15000/15000 [==============================] - 2s 129us/step - loss: 1.2594 - acc: 0.6053\n",
      "epoch: 3\n",
      "Epoch 1/1\n",
      "15000/15000 [==============================] - 2s 127us/step - loss: 1.2073 - acc: 0.6299\n",
      "epoch: 4\n",
      "Epoch 1/1\n",
      "15000/15000 [==============================] - 2s 118us/step - loss: 1.1843 - acc: 0.6257\n",
      "epoch: 5\n",
      "Epoch 1/1\n",
      "15000/15000 [==============================] - 2s 119us/step - loss: 1.1701 - acc: 0.6408\n",
      "epoch: 6\n",
      "Epoch 1/1\n",
      "15000/15000 [==============================] - 2s 120us/step - loss: 1.1361 - acc: 0.6520\n",
      "epoch: 7\n",
      "Epoch 1/1\n",
      "15000/15000 [==============================] - 2s 114us/step - loss: 1.1384 - acc: 0.6488\n",
      "epoch: 8\n",
      "Epoch 1/1\n",
      "15000/15000 [==============================] - 2s 115us/step - loss: 1.0771 - acc: 0.6682\n",
      "epoch: 9\n",
      "Epoch 1/1\n",
      "15000/15000 [==============================] - 2s 115us/step - loss: 1.0707 - acc: 0.6739\n",
      "epoch: 10\n",
      "Epoch 1/1\n",
      "15000/15000 [==============================] - 2s 132us/step - loss: 1.0501 - acc: 0.6785\n",
      "epoch: 11\n",
      "Epoch 1/1\n",
      "15000/15000 [==============================] - 2s 134us/step - loss: 1.0592 - acc: 0.6721\n",
      "epoch: 12\n",
      "Epoch 1/1\n",
      "15000/15000 [==============================] - 2s 126us/step - loss: 1.0425 - acc: 0.6745\n",
      "epoch: 13\n",
      "Epoch 1/1\n",
      "15000/15000 [==============================] - 2s 127us/step - loss: 1.0378 - acc: 0.6779\n",
      "epoch: 14\n",
      "Epoch 1/1\n",
      "15000/15000 [==============================] - 2s 113us/step - loss: 1.0106 - acc: 0.6885\n",
      "epoch: 15\n",
      "Epoch 1/1\n",
      "15000/15000 [==============================] - 2s 138us/step - loss: 1.0266 - acc: 0.6866\n",
      "epoch: 16\n",
      "Epoch 1/1\n",
      "15000/15000 [==============================] - 2s 125us/step - loss: 1.0151 - acc: 0.6823\n",
      "epoch: 17\n",
      "Epoch 1/1\n",
      "15000/15000 [==============================] - 2s 126us/step - loss: 0.9931 - acc: 0.6863\n",
      "epoch: 18\n",
      "Epoch 1/1\n",
      "15000/15000 [==============================] - 2s 128us/step - loss: 1.0002 - acc: 0.6921\n",
      "epoch: 19\n",
      "Epoch 1/1\n",
      "15000/15000 [==============================] - 2s 123us/step - loss: 0.9612 - acc: 0.7014\n",
      "epoch: 20\n",
      "Epoch 1/1\n",
      "15000/15000 [==============================] - 2s 126us/step - loss: 0.9707 - acc: 0.7021\n",
      "epoch: 21\n",
      "Epoch 1/1\n",
      "15000/15000 [==============================] - 2s 125us/step - loss: 0.9808 - acc: 0.6937\n",
      "epoch: 22\n",
      "Epoch 1/1\n",
      "15000/15000 [==============================] - 2s 119us/step - loss: 0.9623 - acc: 0.7029\n",
      "epoch: 23\n",
      "Epoch 1/1\n",
      "15000/15000 [==============================] - 2s 124us/step - loss: 0.9510 - acc: 0.7057\n",
      "epoch: 24\n",
      "Epoch 1/1\n",
      "15000/15000 [==============================] - 2s 135us/step - loss: 0.9255 - acc: 0.7134\n",
      "epoch: 25\n",
      "Epoch 1/1\n",
      "15000/15000 [==============================] - 2s 135us/step - loss: 0.9370 - acc: 0.7111\n",
      "epoch: 26\n",
      "Epoch 1/1\n",
      "15000/15000 [==============================] - 2s 137us/step - loss: 0.9570 - acc: 0.7033\n",
      "epoch: 27\n",
      "Epoch 1/1\n",
      "15000/15000 [==============================] - 2s 128us/step - loss: 0.9359 - acc: 0.7062\n",
      "epoch: 28\n",
      "Epoch 1/1\n",
      "15000/15000 [==============================] - 2s 124us/step - loss: 0.9266 - acc: 0.7111\n",
      "epoch: 29\n",
      "Epoch 1/1\n",
      "15000/15000 [==============================] - 2s 117us/step - loss: 0.9297 - acc: 0.7151\n",
      "epoch: 30\n",
      "Epoch 1/1\n",
      "15000/15000 [==============================] - 4s 252us/step - loss: 0.9212 - acc: 0.7161\n",
      "epoch: 31\n",
      "Epoch 1/1\n",
      "15000/15000 [==============================] - 7s 446us/step - loss: 0.9253 - acc: 0.7187\n",
      "epoch: 32\n",
      "Epoch 1/1\n",
      "15000/15000 [==============================] - 7s 456us/step - loss: 0.9175 - acc: 0.7215\n",
      "epoch: 33\n",
      "Epoch 1/1\n",
      "15000/15000 [==============================] - 6s 404us/step - loss: 0.8974 - acc: 0.7261\n",
      "epoch: 34\n",
      "Epoch 1/1\n",
      "15000/15000 [==============================] - 4s 284us/step - loss: 0.9040 - acc: 0.7227\n",
      "epoch: 35\n",
      "Epoch 1/1\n",
      "15000/15000 [==============================] - 3s 231us/step - loss: 0.9158 - acc: 0.7210\n",
      "epoch: 36\n",
      "Epoch 1/1\n",
      "15000/15000 [==============================] - 3s 202us/step - loss: 0.9074 - acc: 0.7206\n",
      "epoch: 37\n",
      "Epoch 1/1\n",
      "15000/15000 [==============================] - 3s 194us/step - loss: 0.9130 - acc: 0.7231\n",
      "epoch: 38\n",
      "Epoch 1/1\n",
      "15000/15000 [==============================] - 3s 222us/step - loss: 0.9026 - acc: 0.7225\n",
      "epoch: 39\n",
      "Epoch 1/1\n",
      "15000/15000 [==============================] - 3s 175us/step - loss: 0.8953 - acc: 0.7252\n",
      "epoch: 40\n",
      "Epoch 1/1\n",
      "15000/15000 [==============================] - 2s 152us/step - loss: 0.8806 - acc: 0.7253\n",
      "epoch: 41\n",
      "Epoch 1/1\n",
      "15000/15000 [==============================] - 3s 171us/step - loss: 0.8951 - acc: 0.7237\n",
      "epoch: 42\n",
      "Epoch 1/1\n",
      "15000/15000 [==============================] - 3s 183us/step - loss: 0.8982 - acc: 0.7231\n",
      "epoch: 43\n",
      "Epoch 1/1\n",
      "15000/15000 [==============================] - 3s 167us/step - loss: 0.8722 - acc: 0.7347\n",
      "epoch: 44\n",
      "Epoch 1/1\n",
      "15000/15000 [==============================] - 2s 150us/step - loss: 0.8629 - acc: 0.7326\n",
      "epoch: 45\n",
      "Epoch 1/1\n",
      "15000/15000 [==============================] - 2s 162us/step - loss: 0.8841 - acc: 0.7303\n",
      "epoch: 46\n",
      "Epoch 1/1\n",
      "15000/15000 [==============================] - 3s 195us/step - loss: 0.8634 - acc: 0.7355\n",
      "epoch: 47\n",
      "Epoch 1/1\n",
      "15000/15000 [==============================] - 2s 166us/step - loss: 0.8838 - acc: 0.7295\n",
      "epoch: 48\n",
      "Epoch 1/1\n",
      "15000/15000 [==============================] - 2s 147us/step - loss: 0.8525 - acc: 0.7323\n",
      "epoch: 49\n",
      "Epoch 1/1\n",
      "15000/15000 [==============================] - 2s 133us/step - loss: 0.8465 - acc: 0.7429\n",
      "epoch: 50\n",
      "Epoch 1/1\n",
      "15000/15000 [==============================] - 2s 132us/step - loss: 0.8699 - acc: 0.7336\n",
      "epoch: 51\n",
      "Epoch 1/1\n",
      "15000/15000 [==============================] - 2s 120us/step - loss: 0.8405 - acc: 0.7409\n",
      "epoch: 52\n",
      "Epoch 1/1\n",
      "15000/15000 [==============================] - 2s 114us/step - loss: 0.8443 - acc: 0.7429\n",
      "epoch: 53\n",
      "Epoch 1/1\n",
      "15000/15000 [==============================] - 2s 119us/step - loss: 0.8526 - acc: 0.7416\n",
      "epoch: 54\n",
      "Epoch 1/1\n",
      "15000/15000 [==============================] - 2s 141us/step - loss: 0.8480 - acc: 0.7425\n",
      "epoch: 55\n",
      "Epoch 1/1\n",
      "15000/15000 [==============================] - 2s 147us/step - loss: 0.8712 - acc: 0.7362\n",
      "epoch: 56\n",
      "Epoch 1/1\n",
      "15000/15000 [==============================] - 2s 132us/step - loss: 0.8302 - acc: 0.7498\n",
      "epoch: 57\n",
      "Epoch 1/1\n",
      "15000/15000 [==============================] - 2s 137us/step - loss: 0.8277 - acc: 0.7457\n",
      "epoch: 58\n",
      "Epoch 1/1\n",
      "15000/15000 [==============================] - 2s 133us/step - loss: 0.8440 - acc: 0.7413\n",
      "epoch: 59\n",
      "Epoch 1/1\n",
      "15000/15000 [==============================] - 2s 138us/step - loss: 0.8424 - acc: 0.7453\n",
      "epoch: 60\n",
      "Epoch 1/1\n",
      "15000/15000 [==============================] - 2s 133us/step - loss: 0.8403 - acc: 0.7426\n",
      "epoch: 61\n",
      "Epoch 1/1\n",
      "15000/15000 [==============================] - 2s 127us/step - loss: 0.8405 - acc: 0.7407\n",
      "epoch: 62\n",
      "Epoch 1/1\n",
      "15000/15000 [==============================] - 2s 132us/step - loss: 0.8421 - acc: 0.7414\n",
      "epoch: 63\n",
      "Epoch 1/1\n",
      "15000/15000 [==============================] - 2s 125us/step - loss: 0.8161 - acc: 0.7467\n",
      "epoch: 64\n",
      "Epoch 1/1\n",
      "15000/15000 [==============================] - 2s 127us/step - loss: 0.8363 - acc: 0.7476\n",
      "epoch: 65\n",
      "Epoch 1/1\n",
      "15000/15000 [==============================] - 2s 126us/step - loss: 0.8238 - acc: 0.7505\n",
      "epoch: 66\n",
      "Epoch 1/1\n",
      "15000/15000 [==============================] - 2s 141us/step - loss: 0.8127 - acc: 0.7517\n",
      "epoch: 67\n",
      "Epoch 1/1\n",
      "15000/15000 [==============================] - 2s 138us/step - loss: 0.8129 - acc: 0.7487\n",
      "epoch: 68\n",
      "Epoch 1/1\n",
      "15000/15000 [==============================] - 2s 132us/step - loss: 0.8197 - acc: 0.7495\n",
      "epoch: 69\n",
      "Epoch 1/1\n",
      "15000/15000 [==============================] - 2s 133us/step - loss: 0.8216 - acc: 0.7475\n",
      "epoch: 70\n",
      "Epoch 1/1\n",
      "15000/15000 [==============================] - 2s 128us/step - loss: 0.8269 - acc: 0.7459\n",
      "epoch: 71\n",
      "Epoch 1/1\n",
      "15000/15000 [==============================] - 2s 137us/step - loss: 0.8269 - acc: 0.7486\n",
      "epoch: 72\n",
      "Epoch 1/1\n",
      "15000/15000 [==============================] - 2s 127us/step - loss: 0.8278 - acc: 0.7471\n",
      "epoch: 73\n",
      "Epoch 1/1\n",
      "15000/15000 [==============================] - 2s 116us/step - loss: 0.7946 - acc: 0.7571\n",
      "epoch: 74\n",
      "Epoch 1/1\n",
      "15000/15000 [==============================] - 2s 109us/step - loss: 0.8099 - acc: 0.7527\n",
      "epoch: 75\n",
      "Epoch 1/1\n",
      "15000/15000 [==============================] - 2s 117us/step - loss: 0.8142 - acc: 0.7506\n",
      "epoch: 76\n",
      "Epoch 1/1\n",
      "15000/15000 [==============================] - 2s 113us/step - loss: 0.7941 - acc: 0.7513\n",
      "epoch: 77\n",
      "Epoch 1/1\n",
      "15000/15000 [==============================] - 2s 141us/step - loss: 0.8054 - acc: 0.7559\n",
      "epoch: 78\n",
      "Epoch 1/1\n",
      "15000/15000 [==============================] - 2s 130us/step - loss: 0.8047 - acc: 0.7572\n",
      "epoch: 79\n",
      "Epoch 1/1\n",
      "15000/15000 [==============================] - 2s 130us/step - loss: 0.7908 - acc: 0.7580\n",
      "epoch: 80\n",
      "Epoch 1/1\n",
      "15000/15000 [==============================] - 2s 153us/step - loss: 0.8048 - acc: 0.7521\n",
      "epoch: 81\n",
      "Epoch 1/1\n",
      "15000/15000 [==============================] - 2s 161us/step - loss: 0.8184 - acc: 0.7498\n",
      "epoch: 82\n",
      "Epoch 1/1\n",
      "15000/15000 [==============================] - 2s 148us/step - loss: 0.8095 - acc: 0.7499\n",
      "epoch: 83\n",
      "Epoch 1/1\n",
      "15000/15000 [==============================] - 2s 138us/step - loss: 0.7850 - acc: 0.7606\n",
      "epoch: 84\n",
      "Epoch 1/1\n",
      "15000/15000 [==============================] - 2s 137us/step - loss: 0.7850 - acc: 0.7616\n",
      "epoch: 85\n",
      "Epoch 1/1\n",
      "15000/15000 [==============================] - 2s 134us/step - loss: 0.8078 - acc: 0.7499\n",
      "epoch: 86\n",
      "Epoch 1/1\n",
      "15000/15000 [==============================] - 2s 136us/step - loss: 0.8060 - acc: 0.7555\n",
      "epoch: 87\n",
      "Epoch 1/1\n",
      "15000/15000 [==============================] - 2s 130us/step - loss: 0.7927 - acc: 0.7595\n",
      "epoch: 88\n",
      "Epoch 1/1\n",
      "15000/15000 [==============================] - 2s 125us/step - loss: 0.7674 - acc: 0.7616\n",
      "epoch: 89\n",
      "Epoch 1/1\n",
      "15000/15000 [==============================] - 2s 134us/step - loss: 0.7784 - acc: 0.7632\n",
      "epoch: 90\n",
      "Epoch 1/1\n",
      "15000/15000 [==============================] - 2s 133us/step - loss: 0.7780 - acc: 0.7625\n",
      "epoch: 91\n",
      "Epoch 1/1\n",
      "15000/15000 [==============================] - 2s 121us/step - loss: 0.7905 - acc: 0.7578\n",
      "epoch: 92\n",
      "Epoch 1/1\n",
      "15000/15000 [==============================] - 2s 116us/step - loss: 0.8017 - acc: 0.7539\n",
      "epoch: 93\n",
      "Epoch 1/1\n",
      "15000/15000 [==============================] - 2s 113us/step - loss: 0.7869 - acc: 0.7609\n",
      "epoch: 94\n",
      "Epoch 1/1\n",
      "15000/15000 [==============================] - 2s 117us/step - loss: 0.7971 - acc: 0.7536\n",
      "epoch: 95\n",
      "Epoch 1/1\n",
      "15000/15000 [==============================] - 2s 128us/step - loss: 0.7925 - acc: 0.7542\n",
      "epoch: 96\n",
      "Epoch 1/1\n",
      "15000/15000 [==============================] - 2s 126us/step - loss: 0.8094 - acc: 0.7521\n",
      "epoch: 97\n",
      "Epoch 1/1\n",
      "15000/15000 [==============================] - 2s 123us/step - loss: 0.7956 - acc: 0.7563\n",
      "epoch: 98\n",
      "Epoch 1/1\n",
      "15000/15000 [==============================] - 2s 122us/step - loss: 0.7808 - acc: 0.7578\n",
      "epoch: 99\n",
      "Epoch 1/1\n",
      "15000/15000 [==============================] - 2s 123us/step - loss: 0.7629 - acc: 0.7661\n",
      "epoch: 100\n",
      "Epoch 1/1\n",
      "15000/15000 [==============================] - 2s 116us/step - loss: 0.7952 - acc: 0.7558\n",
      "epoch: 101\n",
      "Epoch 1/1\n",
      "15000/15000 [==============================] - 2s 118us/step - loss: 0.7689 - acc: 0.7669\n",
      "epoch: 102\n",
      "Epoch 1/1\n",
      "15000/15000 [==============================] - 2s 123us/step - loss: 0.7709 - acc: 0.7640\n",
      "epoch: 103\n",
      "Epoch 1/1\n",
      "15000/15000 [==============================] - 2s 132us/step - loss: 0.7795 - acc: 0.7607\n",
      "epoch: 104\n",
      "Epoch 1/1\n",
      "15000/15000 [==============================] - 2s 136us/step - loss: 0.7818 - acc: 0.7644\n",
      "epoch: 105\n",
      "Epoch 1/1\n",
      "15000/15000 [==============================] - 2s 134us/step - loss: 0.7618 - acc: 0.7672\n",
      "epoch: 106\n",
      "Epoch 1/1\n",
      "15000/15000 [==============================] - 2s 129us/step - loss: 0.7774 - acc: 0.7617\n",
      "epoch: 107\n",
      "Epoch 1/1\n",
      "15000/15000 [==============================] - 2s 136us/step - loss: 0.7890 - acc: 0.7564\n",
      "epoch: 108\n",
      "Epoch 1/1\n",
      "15000/15000 [==============================] - 2s 128us/step - loss: 0.7740 - acc: 0.7650\n",
      "epoch: 109\n",
      "Epoch 1/1\n",
      "15000/15000 [==============================] - 2s 113us/step - loss: 0.7636 - acc: 0.7659\n",
      "epoch: 110\n",
      "Epoch 1/1\n",
      "15000/15000 [==============================] - 2s 131us/step - loss: 0.7649 - acc: 0.7670\n",
      "epoch: 111\n",
      "Epoch 1/1\n",
      "15000/15000 [==============================] - 2s 140us/step - loss: 0.7498 - acc: 0.7692\n",
      "epoch: 112\n",
      "Epoch 1/1\n",
      "15000/15000 [==============================] - 2s 140us/step - loss: 0.7475 - acc: 0.7709\n",
      "epoch: 113\n",
      "Epoch 1/1\n",
      "15000/15000 [==============================] - 2s 135us/step - loss: 0.7742 - acc: 0.7667\n",
      "epoch: 114\n",
      "Epoch 1/1\n",
      "15000/15000 [==============================] - 2s 134us/step - loss: 0.7682 - acc: 0.7645\n",
      "epoch: 115\n",
      "Epoch 1/1\n",
      "15000/15000 [==============================] - 2s 143us/step - loss: 0.7548 - acc: 0.7683\n",
      "epoch: 116\n",
      "Epoch 1/1\n",
      "15000/15000 [==============================] - 2s 147us/step - loss: 0.7510 - acc: 0.7673\n",
      "epoch: 117\n",
      "Epoch 1/1\n",
      "15000/15000 [==============================] - 2s 135us/step - loss: 0.7753 - acc: 0.7645\n",
      "epoch: 118\n",
      "Epoch 1/1\n",
      "15000/15000 [==============================] - 2s 118us/step - loss: 0.7560 - acc: 0.7737\n",
      "epoch: 119\n",
      "Epoch 1/1\n",
      "15000/15000 [==============================] - 2s 120us/step - loss: 0.7575 - acc: 0.7704\n",
      "epoch: 120\n",
      "Epoch 1/1\n",
      "15000/15000 [==============================] - 2s 122us/step - loss: 0.7547 - acc: 0.7711\n",
      "epoch: 121\n",
      "Epoch 1/1\n",
      "15000/15000 [==============================] - 2s 145us/step - loss: 0.7613 - acc: 0.7685\n",
      "epoch: 122\n",
      "Epoch 1/1\n",
      "15000/15000 [==============================] - 2s 140us/step - loss: 0.7515 - acc: 0.7717\n",
      "epoch: 123\n",
      "Epoch 1/1\n",
      "15000/15000 [==============================] - 2s 154us/step - loss: 0.7679 - acc: 0.7665\n",
      "epoch: 124\n",
      "Epoch 1/1\n",
      "15000/15000 [==============================] - 2s 146us/step - loss: 0.7685 - acc: 0.7651\n",
      "epoch: 125\n",
      "Epoch 1/1\n",
      "15000/15000 [==============================] - 2s 141us/step - loss: 0.7621 - acc: 0.7661\n",
      "epoch: 126\n",
      "Epoch 1/1\n",
      "15000/15000 [==============================] - 2s 148us/step - loss: 0.7724 - acc: 0.7601\n",
      "epoch: 127\n",
      "Epoch 1/1\n",
      "15000/15000 [==============================] - 2s 151us/step - loss: 0.7753 - acc: 0.7615\n",
      "epoch: 128\n",
      "Epoch 1/1\n",
      "15000/15000 [==============================] - 2s 128us/step - loss: 0.7565 - acc: 0.7706\n",
      "epoch: 129\n",
      "Epoch 1/1\n",
      "15000/15000 [==============================] - 2s 124us/step - loss: 0.7577 - acc: 0.7701\n",
      "epoch: 130\n",
      "Epoch 1/1\n",
      "15000/15000 [==============================] - 2s 121us/step - loss: 0.7549 - acc: 0.7727\n",
      "epoch: 131\n",
      "Epoch 1/1\n",
      "15000/15000 [==============================] - 2s 140us/step - loss: 0.7622 - acc: 0.7670\n",
      "epoch: 132\n",
      "Epoch 1/1\n",
      "15000/15000 [==============================] - 2s 136us/step - loss: 0.7554 - acc: 0.7691\n",
      "epoch: 133\n",
      "Epoch 1/1\n",
      "15000/15000 [==============================] - 2s 143us/step - loss: 0.7466 - acc: 0.7712\n",
      "epoch: 134\n",
      "Epoch 1/1\n",
      "15000/15000 [==============================] - 2s 159us/step - loss: 0.7314 - acc: 0.7731\n",
      "epoch: 135\n",
      "Epoch 1/1\n",
      "15000/15000 [==============================] - 2s 161us/step - loss: 0.7423 - acc: 0.7747\n",
      "epoch: 136\n",
      "Epoch 1/1\n",
      "15000/15000 [==============================] - 2s 136us/step - loss: 0.7254 - acc: 0.7751\n",
      "epoch: 137\n",
      "Epoch 1/1\n",
      "15000/15000 [==============================] - 2s 128us/step - loss: 0.7409 - acc: 0.7784\n",
      "epoch: 138\n",
      "Epoch 1/1\n",
      "15000/15000 [==============================] - 2s 129us/step - loss: 0.7519 - acc: 0.7705\n",
      "epoch: 139\n",
      "Epoch 1/1\n",
      "15000/15000 [==============================] - 2s 127us/step - loss: 0.7400 - acc: 0.7734\n",
      "epoch: 140\n",
      "Epoch 1/1\n",
      "15000/15000 [==============================] - 2s 117us/step - loss: 0.7492 - acc: 0.7740\n",
      "epoch: 141\n",
      "Epoch 1/1\n",
      "15000/15000 [==============================] - 2s 126us/step - loss: 0.7552 - acc: 0.7710\n",
      "epoch: 142\n",
      "Epoch 1/1\n",
      "15000/15000 [==============================] - 2s 140us/step - loss: 0.7290 - acc: 0.7763\n",
      "epoch: 143\n",
      "Epoch 1/1\n",
      "15000/15000 [==============================] - 2s 144us/step - loss: 0.7505 - acc: 0.7708\n",
      "epoch: 144\n",
      "Epoch 1/1\n",
      "15000/15000 [==============================] - 2s 144us/step - loss: 0.7440 - acc: 0.7731\n",
      "epoch: 145\n",
      "Epoch 1/1\n",
      "15000/15000 [==============================] - 2s 148us/step - loss: 0.7569 - acc: 0.7676\n",
      "epoch: 146\n",
      "Epoch 1/1\n",
      "15000/15000 [==============================] - 2s 138us/step - loss: 0.7572 - acc: 0.7683\n",
      "epoch: 147\n",
      "Epoch 1/1\n",
      "15000/15000 [==============================] - 2s 137us/step - loss: 0.7461 - acc: 0.7708\n",
      "epoch: 148\n",
      "Epoch 1/1\n"
     ]
    },
    {
     "name": "stdout",
     "output_type": "stream",
     "text": [
      "15000/15000 [==============================] - 2s 128us/step - loss: 0.7318 - acc: 0.7771\n",
      "epoch: 149\n",
      "Epoch 1/1\n",
      "15000/15000 [==============================] - 2s 118us/step - loss: 0.7418 - acc: 0.7763\n",
      "epoch: 150\n",
      "Epoch 1/1\n",
      "15000/15000 [==============================] - 2s 118us/step - loss: 0.7256 - acc: 0.7813\n",
      "epoch: 151\n",
      "Epoch 1/1\n",
      "15000/15000 [==============================] - 2s 107us/step - loss: 0.7599 - acc: 0.7717\n",
      "epoch: 152\n",
      "Epoch 1/1\n",
      "15000/15000 [==============================] - 2s 110us/step - loss: 0.7341 - acc: 0.7720\n",
      "epoch: 153\n",
      "Epoch 1/1\n",
      "15000/15000 [==============================] - 2s 106us/step - loss: 0.7309 - acc: 0.7766\n",
      "epoch: 154\n",
      "Epoch 1/1\n",
      "15000/15000 [==============================] - 2s 115us/step - loss: 0.7366 - acc: 0.7757\n",
      "epoch: 155\n",
      "Epoch 1/1\n",
      "15000/15000 [==============================] - 2s 122us/step - loss: 0.7325 - acc: 0.7759\n",
      "epoch: 156\n",
      "Epoch 1/1\n",
      "15000/15000 [==============================] - 2s 111us/step - loss: 0.7221 - acc: 0.7787\n",
      "epoch: 157\n",
      "Epoch 1/1\n",
      "15000/15000 [==============================] - 2s 115us/step - loss: 0.7043 - acc: 0.7865\n",
      "epoch: 158\n",
      "Epoch 1/1\n",
      "15000/15000 [==============================] - 2s 119us/step - loss: 0.7068 - acc: 0.7869\n",
      "epoch: 159\n",
      "Epoch 1/1\n",
      "15000/15000 [==============================] - 2s 124us/step - loss: 0.7172 - acc: 0.7779\n",
      "epoch: 160\n",
      "Epoch 1/1\n",
      "15000/15000 [==============================] - 2s 125us/step - loss: 0.7052 - acc: 0.7854\n",
      "epoch: 161\n",
      "Epoch 1/1\n",
      "15000/15000 [==============================] - 2s 121us/step - loss: 0.7122 - acc: 0.7804\n",
      "epoch: 162\n",
      "Epoch 1/1\n",
      "15000/15000 [==============================] - 2s 122us/step - loss: 0.7260 - acc: 0.7826\n",
      "epoch: 163\n",
      "Epoch 1/1\n",
      "15000/15000 [==============================] - 2s 128us/step - loss: 0.7255 - acc: 0.7759\n",
      "epoch: 164\n",
      "Epoch 1/1\n",
      "15000/15000 [==============================] - 2s 142us/step - loss: 0.7138 - acc: 0.7838\n",
      "epoch: 165\n",
      "Epoch 1/1\n",
      "15000/15000 [==============================] - 2s 136us/step - loss: 0.6982 - acc: 0.7868\n",
      "epoch: 166\n",
      "Epoch 1/1\n",
      "15000/15000 [==============================] - 2s 129us/step - loss: 0.7116 - acc: 0.7830\n",
      "epoch: 167\n",
      "Epoch 1/1\n",
      "15000/15000 [==============================] - 2s 145us/step - loss: 0.7068 - acc: 0.7827\n",
      "epoch: 168\n",
      "Epoch 1/1\n",
      "15000/15000 [==============================] - 2s 149us/step - loss: 0.7061 - acc: 0.7839\n",
      "epoch: 169\n",
      "Epoch 1/1\n",
      "15000/15000 [==============================] - 2s 124us/step - loss: 0.7126 - acc: 0.7829\n",
      "epoch: 170\n",
      "Epoch 1/1\n",
      "15000/15000 [==============================] - 2s 126us/step - loss: 0.7305 - acc: 0.7763\n",
      "epoch: 171\n",
      "Epoch 1/1\n",
      "15000/15000 [==============================] - 2s 113us/step - loss: 0.7080 - acc: 0.7819\n",
      "epoch: 172\n",
      "Epoch 1/1\n",
      "15000/15000 [==============================] - 2s 141us/step - loss: 0.7209 - acc: 0.7831\n",
      "epoch: 173\n",
      "Epoch 1/1\n",
      "15000/15000 [==============================] - 2s 130us/step - loss: 0.7050 - acc: 0.7834\n",
      "epoch: 174\n",
      "Epoch 1/1\n",
      "15000/15000 [==============================] - 2s 130us/step - loss: 0.7117 - acc: 0.7827\n",
      "epoch: 175\n",
      "Epoch 1/1\n",
      "15000/15000 [==============================] - 2s 128us/step - loss: 0.7065 - acc: 0.7858\n",
      "epoch: 176\n",
      "Epoch 1/1\n",
      "15000/15000 [==============================] - 2s 121us/step - loss: 0.7408 - acc: 0.7764\n",
      "epoch: 177\n",
      "Epoch 1/1\n",
      "15000/15000 [==============================] - 2s 146us/step - loss: 0.7203 - acc: 0.7794\n",
      "epoch: 178\n",
      "Epoch 1/1\n",
      "15000/15000 [==============================] - 2s 135us/step - loss: 0.7201 - acc: 0.7809\n",
      "epoch: 179\n",
      "Epoch 1/1\n",
      "15000/15000 [==============================] - 2s 165us/step - loss: 0.7327 - acc: 0.7737\n",
      "epoch: 180\n",
      "Epoch 1/1\n",
      "15000/15000 [==============================] - 2s 162us/step - loss: 0.7502 - acc: 0.7649\n",
      "epoch: 181\n",
      "Epoch 1/1\n",
      "15000/15000 [==============================] - 3s 167us/step - loss: 0.7372 - acc: 0.7765\n",
      "epoch: 182\n",
      "Epoch 1/1\n",
      "15000/15000 [==============================] - 2s 164us/step - loss: 0.7050 - acc: 0.7847\n",
      "epoch: 183\n",
      "Epoch 1/1\n",
      "15000/15000 [==============================] - 2s 163us/step - loss: 0.7105 - acc: 0.7843\n",
      "epoch: 184\n",
      "Epoch 1/1\n",
      "15000/15000 [==============================] - 2s 143us/step - loss: 0.7080 - acc: 0.7867\n",
      "epoch: 185\n",
      "Epoch 1/1\n",
      "15000/15000 [==============================] - 2s 130us/step - loss: 0.7202 - acc: 0.7810\n",
      "epoch: 186\n",
      "Epoch 1/1\n",
      "15000/15000 [==============================] - 2s 113us/step - loss: 0.7063 - acc: 0.7843\n",
      "epoch: 187\n",
      "Epoch 1/1\n",
      "15000/15000 [==============================] - 2s 111us/step - loss: 0.7170 - acc: 0.7816\n",
      "epoch: 188\n",
      "Epoch 1/1\n",
      "15000/15000 [==============================] - 2s 112us/step - loss: 0.7079 - acc: 0.7817\n",
      "epoch: 189\n",
      "Epoch 1/1\n",
      "15000/15000 [==============================] - 2s 112us/step - loss: 0.7306 - acc: 0.7786\n",
      "epoch: 190\n",
      "Epoch 1/1\n",
      "15000/15000 [==============================] - 2s 124us/step - loss: 0.7162 - acc: 0.7797\n",
      "epoch: 191\n",
      "Epoch 1/1\n",
      "15000/15000 [==============================] - 2s 118us/step - loss: 0.7218 - acc: 0.7821\n",
      "epoch: 192\n",
      "Epoch 1/1\n",
      "15000/15000 [==============================] - 2s 115us/step - loss: 0.7265 - acc: 0.7793\n",
      "epoch: 193\n",
      "Epoch 1/1\n",
      "15000/15000 [==============================] - 2s 118us/step - loss: 0.7229 - acc: 0.7787\n",
      "epoch: 194\n",
      "Epoch 1/1\n",
      "15000/15000 [==============================] - 2s 125us/step - loss: 0.7095 - acc: 0.7836\n",
      "epoch: 195\n",
      "Epoch 1/1\n",
      "15000/15000 [==============================] - 2s 120us/step - loss: 0.7158 - acc: 0.7814\n",
      "epoch: 196\n",
      "Epoch 1/1\n",
      "15000/15000 [==============================] - 2s 120us/step - loss: 0.7352 - acc: 0.7802\n",
      "epoch: 197\n",
      "Epoch 1/1\n",
      "15000/15000 [==============================] - 2s 120us/step - loss: 0.7186 - acc: 0.7807\n",
      "epoch: 198\n",
      "Epoch 1/1\n",
      "15000/15000 [==============================] - 2s 138us/step - loss: 0.7269 - acc: 0.7816\n",
      "epoch: 199\n",
      "Epoch 1/1\n",
      "15000/15000 [==============================] - 2s 142us/step - loss: 0.7241 - acc: 0.7794\n"
     ]
    }
   ],
   "source": [
    "train_history = train_net(qd_model, X_train, y_train, 200, 0.025)"
   ]
  },
  {
   "cell_type": "code",
   "execution_count": 364,
   "metadata": {},
   "outputs": [
    {
     "name": "stdout",
     "output_type": "stream",
     "text": [
      "150000/150000 [==============================] - 10s 69us/step\n",
      "loss: 0.7184748692131042\n",
      "accuracy: 0.7830666666666667\n"
     ]
    }
   ],
   "source": [
    "evaluate_model(qd_model, X_test, y_test)"
   ]
  },
  {
   "cell_type": "code",
   "execution_count": 384,
   "metadata": {},
   "outputs": [
    {
     "data": {
      "image/png": "[encoded data removed]",
      "text/plain": [
       "<Figure size 432x288 with 1 Axes>"
      ]
     },
     "metadata": {
      "needs_background": "light"
     },
     "output_type": "display_data"
    }
   ],
   "source": [
    "plt.title('Network 3 Training')\n",
    "show_history(train_history)"
   ]
  },
  {
   "cell_type": "code",
   "execution_count": 382,
   "metadata": {
    "scrolled": false
   },
   "outputs": [
    {
     "name": "stdout",
     "output_type": "stream",
     "text": [
      "index: 114192\n",
      "prediction output: [[0.    0.038 0.    0.    0.    0.001 0.001 0.    0.007 0.    0.    0.\n",
      "  0.941 0.01  0.   ]]\n",
      "true class: map\n",
      "predicted class: map\n",
      "confidence: 0.9410469\n"
     ]
    },
    {
     "data": {
      "image/png": "[encoded data removed]",
      "text/plain": [
       "<Figure size 432x288 with 1 Axes>"
      ]
     },
     "metadata": {
      "needs_background": "light"
     },
     "output_type": "display_data"
    }
   ],
   "source": [
    "random_test_prediction(qd_model)"
   ]
  },
  {
   "cell_type": "code",
   "execution_count": 305,
   "metadata": {},
   "outputs": [],
   "source": [
    "qd_model.save('models/net3.h5')"
   ]
  },
  {
   "cell_type": "markdown",
   "metadata": {},
   "source": [
    "## Network 4: More Layers and Neurons\n",
    "Next we'll add more layers AND neurons."
   ]
  },
  {
   "cell_type": "code",
   "execution_count": 67,
   "metadata": {
    "scrolled": true
   },
   "outputs": [
    {
     "name": "stdout",
     "output_type": "stream",
     "text": [
      "_________________________________________________________________\n",
      "Layer (type)                 Output Shape              Param #   \n",
      "=================================================================\n",
      "dense_40 (Dense)             (None, 128)               100480    \n",
      "_________________________________________________________________\n",
      "dense_41 (Dense)             (None, 256)               33024     \n",
      "_________________________________________________________________\n",
      "dense_42 (Dense)             (None, 256)               65792     \n",
      "_________________________________________________________________\n",
      "dense_43 (Dense)             (None, 128)               32896     \n",
      "_________________________________________________________________\n",
      "dense_44 (Dense)             (None, 15)                1935      \n",
      "=================================================================\n",
      "Total params: 234,127\n",
      "Trainable params: 234,127\n",
      "Non-trainable params: 0\n",
      "_________________________________________________________________\n"
     ]
    }
   ],
   "source": [
    "from tensorflow.keras.models import Sequential\n",
    "from tensorflow.keras.layers import Input, Dense, Activation\n",
    "\n",
    "qd_model = Sequential([\n",
    "    Dense(128, input_shape=(784,), activation=tf.nn.sigmoid),\n",
    "    Dense(256, activation=tf.nn.sigmoid),\n",
    "    Dense(256, activation=tf.nn.sigmoid),\n",
    "    Dense(128, activation=tf.nn.sigmoid),\n",
    "    Dense(len(classes), activation='softmax'),\n",
    "])\n",
    "\n",
    "qd_model.compile(optimizer='adam', \n",
    "                 loss='sparse_categorical_crossentropy',\n",
    "                 metrics=['accuracy'])\n",
    "\n",
    "qd_model.summary()"
   ]
  },
  {
   "cell_type": "code",
   "execution_count": 68,
   "metadata": {
    "scrolled": true
   },
   "outputs": [
    {
     "name": "stdout",
     "output_type": "stream",
     "text": [
      "epoch: 0\n",
      "Epoch 1/1\n",
      "600000/600000 [==============================] - 55s 91us/step - loss: 1.0679 - acc: 0.6636\n",
      "epoch: 1\n",
      "Epoch 1/1\n",
      "600000/600000 [==============================] - 56s 94us/step - loss: 0.8361 - acc: 0.7425\n",
      "epoch: 2\n",
      "Epoch 1/1\n",
      "600000/600000 [==============================] - 57s 95us/step - loss: 0.7629 - acc: 0.7659\n",
      "epoch: 3\n",
      "Epoch 1/1\n",
      "600000/600000 [==============================] - 78s 129us/step - loss: 0.7289 - acc: 0.7764\n",
      "epoch: 4\n",
      "Epoch 1/1\n",
      "600000/600000 [==============================] - 57s 94us/step - loss: 0.6875 - acc: 0.7897\n",
      "epoch: 5\n",
      "Epoch 1/1\n",
      "600000/600000 [==============================] - 59s 98us/step - loss: 0.6654 - acc: 0.7967\n",
      "epoch: 6\n",
      "Epoch 1/1\n",
      "600000/600000 [==============================] - 58s 96us/step - loss: 0.6565 - acc: 0.7986\n",
      "epoch: 7\n",
      "Epoch 1/1\n",
      "600000/600000 [==============================] - 66s 109us/step - loss: 0.6447 - acc: 0.8025\n",
      "epoch: 8\n",
      "Epoch 1/1\n",
      "600000/600000 [==============================] - 70s 117us/step - loss: 0.6255 - acc: 0.8084\n",
      "epoch: 9\n",
      "Epoch 1/1\n",
      "600000/600000 [==============================] - 57s 95us/step - loss: 0.6144 - acc: 0.8117\n",
      "epoch: 10\n",
      "Epoch 1/1\n",
      "600000/600000 [==============================] - 60s 100us/step - loss: 0.6053 - acc: 0.8152\n",
      "epoch: 11\n",
      "Epoch 1/1\n",
      "600000/600000 [==============================] - 63s 105us/step - loss: 0.6029 - acc: 0.8159\n",
      "epoch: 12\n",
      "Epoch 1/1\n",
      "600000/600000 [==============================] - 65s 109us/step - loss: 0.5963 - acc: 0.8176\n",
      "epoch: 13\n",
      "Epoch 1/1\n",
      "600000/600000 [==============================] - 65s 108us/step - loss: 0.5945 - acc: 0.8183\n",
      "epoch: 14\n",
      "Epoch 1/1\n",
      "600000/600000 [==============================] - 60s 100us/step - loss: 0.5825 - acc: 0.8223\n",
      "epoch: 15\n",
      "Epoch 1/1\n",
      "600000/600000 [==============================] - 58s 97us/step - loss: 0.5787 - acc: 0.8233\n",
      "epoch: 16\n",
      "Epoch 1/1\n",
      "600000/600000 [==============================] - 99s 166us/step - loss: 0.5655 - acc: 0.8275\n",
      "epoch: 17\n",
      "Epoch 1/1\n",
      "600000/600000 [==============================] - 63s 104us/step - loss: 0.5694 - acc: 0.8258\n",
      "epoch: 18\n",
      "Epoch 1/1\n",
      "600000/600000 [==============================] - 59s 98us/step - loss: 0.5678 - acc: 0.8269\n",
      "epoch: 19\n",
      "Epoch 1/1\n",
      "600000/600000 [==============================] - 60s 100us/step - loss: 0.5624 - acc: 0.8284\n",
      "epoch: 20\n",
      "Epoch 1/1\n",
      "600000/600000 [==============================] - 73s 121us/step - loss: 0.5634 - acc: 0.8278\n",
      "epoch: 21\n",
      "Epoch 1/1\n",
      "600000/600000 [==============================] - 74s 124us/step - loss: 0.5520 - acc: 0.8317\n",
      "epoch: 22\n",
      "Epoch 1/1\n",
      "600000/600000 [==============================] - 55s 91us/step - loss: 0.5516 - acc: 0.8316\n",
      "epoch: 23\n",
      "Epoch 1/1\n",
      "600000/600000 [==============================] - 58s 96us/step - loss: 0.5425 - acc: 0.8345\n",
      "epoch: 24\n",
      "Epoch 1/1\n",
      "600000/600000 [==============================] - 57s 96us/step - loss: 0.5395 - acc: 0.8360\n",
      "epoch: 25\n",
      "Epoch 1/1\n",
      "600000/600000 [==============================] - 63s 106us/step - loss: 0.5377 - acc: 0.8364\n",
      "epoch: 26\n",
      "Epoch 1/1\n",
      "600000/600000 [==============================] - 68s 114us/step - loss: 0.5469 - acc: 0.8335\n",
      "epoch: 27\n",
      "Epoch 1/1\n",
      "600000/600000 [==============================] - 63s 105us/step - loss: 0.5430 - acc: 0.8347\n",
      "epoch: 28\n",
      "Epoch 1/1\n",
      "600000/600000 [==============================] - 59s 99us/step - loss: 0.5362 - acc: 0.8367\n",
      "epoch: 29\n",
      "Epoch 1/1\n",
      "600000/600000 [==============================] - 57s 95us/step - loss: 0.5335 - acc: 0.8377\n",
      "epoch: 30\n",
      "Epoch 1/1\n",
      "600000/600000 [==============================] - 70s 117us/step - loss: 0.5275 - acc: 0.8392\n",
      "epoch: 31\n",
      "Epoch 1/1\n",
      "600000/600000 [==============================] - 61s 102us/step - loss: 0.5288 - acc: 0.8392\n",
      "epoch: 32\n",
      "Epoch 1/1\n",
      "600000/600000 [==============================] - 62s 103us/step - loss: 0.5313 - acc: 0.8384\n",
      "epoch: 33\n",
      "Epoch 1/1\n",
      "600000/600000 [==============================] - 53s 88us/step - loss: 0.5267 - acc: 0.8396\n",
      "epoch: 34\n",
      "Epoch 1/1\n",
      "600000/600000 [==============================] - 58s 96us/step - loss: 0.5294 - acc: 0.8389\n",
      "epoch: 35\n",
      "Epoch 1/1\n",
      "600000/600000 [==============================] - 79s 131us/step - loss: 0.5301 - acc: 0.8384\n",
      "epoch: 36\n",
      "Epoch 1/1\n",
      "600000/600000 [==============================] - 60s 100us/step - loss: 0.5282 - acc: 0.8387\n",
      "epoch: 37\n",
      "Epoch 1/1\n",
      "600000/600000 [==============================] - 83s 138us/step - loss: 0.5286 - acc: 0.8393\n",
      "epoch: 38\n",
      "Epoch 1/1\n",
      "600000/600000 [==============================] - 105s 174us/step - loss: 0.5284 - acc: 0.8390\n",
      "epoch: 39\n",
      "Epoch 1/1\n",
      "600000/600000 [==============================] - 98s 163us/step - loss: 0.5180 - acc: 0.8426\n"
     ]
    }
   ],
   "source": [
    "train_history = train_net(qd_model, X_train, y_train, 40, 1)"
   ]
  },
  {
   "cell_type": "code",
   "execution_count": 69,
   "metadata": {
    "scrolled": true
   },
   "outputs": [
    {
     "name": "stdout",
     "output_type": "stream",
     "text": [
      "150000/150000 [==============================] - 13s 86us/step\n",
      "loss: 0.556426857919693\n",
      "accuracy: 0.83314\n"
     ]
    }
   ],
   "source": [
    "evaluate_model(qd_model, X_test, y_test)"
   ]
  },
  {
   "cell_type": "code",
   "execution_count": 70,
   "metadata": {},
   "outputs": [
    {
     "data": {
      "image/png": "[encoded data removed]",
      "text/plain": [
       "<Figure size 432x288 with 1 Axes>"
      ]
     },
     "metadata": {
      "needs_background": "light"
     },
     "output_type": "display_data"
    }
   ],
   "source": [
    "plt.title('Network 4 Training')\n",
    "show_history(train_history)"
   ]
  },
  {
   "cell_type": "code",
   "execution_count": 71,
   "metadata": {
    "scrolled": false
   },
   "outputs": [
    {
     "name": "stdout",
     "output_type": "stream",
     "text": [
      "index: 91497\n",
      "prediction output: [[0.001 0.001 0.986 0.002 0.    0.001 0.001 0.002 0.    0.003 0.001 0.001\n",
      "  0.    0.    0.001]]\n",
      "true class: campfire\n",
      "predicted class: campfire\n",
      "confidence: 0.9858849\n"
     ]
    },
    {
     "data": {
      "image/png": "[encoded data removed]",
      "text/plain": [
       "<Figure size 432x288 with 1 Axes>"
      ]
     },
     "metadata": {
      "needs_background": "light"
     },
     "output_type": "display_data"
    }
   ],
   "source": [
    "random_test_prediction(qd_model)"
   ]
  },
  {
   "cell_type": "code",
   "execution_count": 72,
   "metadata": {},
   "outputs": [],
   "source": [
    "qd_model.save('models/net4.h5')"
   ]
  }
 ],
 "metadata": {
  "kernelspec": {
   "display_name": "Python 3",
   "language": "python",
   "name": "python3"
  },
  "language_info": {
   "codemirror_mode": {
    "name": "ipython",
    "version": 3
   },
   "file_extension": ".py",
   "mimetype": "text/x-python",
   "name": "python",
   "nbconvert_exporter": "python",
   "pygments_lexer": "ipython3",
   "version": "3.6.7"
  }
 },
 "nbformat": 4,
 "nbformat_minor": 2
}
